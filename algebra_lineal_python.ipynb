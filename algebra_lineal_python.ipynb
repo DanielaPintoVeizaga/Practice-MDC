{
 "cells": [
  {
   "cell_type": "markdown",
   "metadata": {},
   "source": [
    "**Ejercicio 1:** Resolver los sistemas de ecuaciones lineales $Ax = b$ con la factorización P, LU y verificar resultado."
   ]
  },
  {
   "cell_type": "markdown",
   "metadata": {},
   "source": [
    "$$ A = \\left[\\begin{array}{ccc}\n",
    "0 & 1& -1\\\\\n",
    "-2 & 4& -1\\\\\n",
    "-2 & 5& -4\n",
    "\\end{array}\n",
    "\\right],\n",
    "b=\n",
    "\\left[\\begin{array}{c}\n",
    "3\\\\\n",
    "1\\\\\n",
    "-2\n",
    "\\end{array}\n",
    "\\right] \n",
    "$$"
   ]
  },
  {
   "cell_type": "code",
   "execution_count": 1,
   "metadata": {},
   "outputs": [],
   "source": [
    "#Importando la paquetería necesaria para ejecutar la factorización P, LU.\n",
    "import scipy\n",
    "import scipy.linalg \n",
    "import numpy as np\n",
    "import pprint\n"
   ]
  },
  {
   "cell_type": "code",
   "execution_count": 2,
   "metadata": {},
   "outputs": [
    {
     "name": "stdout",
     "output_type": "stream",
     "text": [
      "A:\n",
      "array([[ 0,  1, -1],\n",
      "       [-2,  4, -1],\n",
      "       [-2,  5, -4]])\n",
      "P:\n",
      "array([[0., 1., 0.],\n",
      "       [1., 0., 0.],\n",
      "       [0., 0., 1.]])\n",
      "L:\n",
      "array([[ 1.,  0.,  0.],\n",
      "       [-0.,  1.,  0.],\n",
      "       [ 1.,  1.,  1.]])\n",
      "U:\n",
      "array([[-2.,  4., -1.],\n",
      "       [ 0.,  1., -1.],\n",
      "       [ 0.,  0., -2.]])\n"
     ]
    }
   ],
   "source": [
    "#Ingresando los valores de la matriz A:\n",
    "\n",
    "A = scipy.array([[0,1,-1],[-2,4,-1],[-2,5,-4]])\n",
    "\n",
    "#Obteniendo los factores P, L, U de la matriz A:\n",
    "P, L, U = scipy.linalg.lu(A)\n",
    "\n",
    "print('A:')\n",
    "pprint.pprint(A)\n",
    "print('P:')\n",
    "pprint.pprint(P)\n",
    "print('L:')\n",
    "pprint.pprint(L)\n",
    "print('U:')\n",
    "pprint.pprint(U)"
   ]
  },
  {
   "cell_type": "code",
   "execution_count": 3,
   "metadata": {},
   "outputs": [
    {
     "name": "stdout",
     "output_type": "stream",
     "text": [
      "Verificando que es igual LU al producto PA\n",
      "L*U:\n",
      "array([[-2.,  4., -1.],\n",
      "       [ 0.,  1., -1.],\n",
      "       [-2.,  5., -4.]])\n",
      "P*A\n",
      "array([[-2.,  4., -1.],\n",
      "       [ 0.,  1., -1.],\n",
      "       [-2.,  5., -4.]])\n"
     ]
    }
   ],
   "source": [
    "#Verificando que LU es igual a PA.\n",
    "\n",
    "print('Verificando que es igual LU al producto PA')\n",
    "print('L*U:')\n",
    "pprint.pprint(L@U)\n",
    "print('P*A')\n",
    "pprint.pprint(P@A)"
   ]
  },
  {
   "cell_type": "code",
   "execution_count": 4,
   "metadata": {},
   "outputs": [
    {
     "name": "stdout",
     "output_type": "stream",
     "text": [
      "Usando los factores P,L,U para resolver AX = B\n",
      "X:\n",
      "array([[10.],\n",
      "       [ 6.],\n",
      "       [ 3.]])\n"
     ]
    }
   ],
   "source": [
    "#Empleando los factores P, L, U para resolver AX=B\n",
    "\n",
    "print('Usando los factores P,L,U para resolver AX = B')\n",
    "\n",
    "B = scipy.array([[3],[1],[-2]])\n",
    "\n",
    "D = scipy.linalg.solve_triangular(L,P@B,lower=True)\n",
    "X = scipy.linalg.solve_triangular(U,D) #default es usar una triangular superior\n",
    "print('X:')\n",
    "pprint.pprint(X)"
   ]
  },
  {
   "cell_type": "code",
   "execution_count": 5,
   "metadata": {},
   "outputs": [
    {
     "name": "stdout",
     "output_type": "stream",
     "text": [
      "Verificando resultado AX = B\n",
      "B:\n",
      "array([[ 3],\n",
      "       [ 1],\n",
      "       [-2]])\n",
      "AX:\n",
      "array([[ 3.],\n",
      "       [ 1.],\n",
      "       [-2.]])\n"
     ]
    }
   ],
   "source": [
    "#Verificando que AX=B\n",
    "print('Verificando resultado AX = B')\n",
    "print('B:')\n",
    "pprint.pprint(B)\n",
    "print('AX:')\n",
    "pprint.pprint(A@X)"
   ]
  },
  {
   "cell_type": "markdown",
   "metadata": {},
   "source": [
    "$$ A = \\left[\\begin{array}{ccc}\n",
    "0 & 1& -1\\\\\n",
    "-2 & 4& -1\\\\\n",
    "-2 & 5& -4\n",
    "\\end{array}\n",
    "\\right],\n",
    "b=\n",
    "\\left[\\begin{array}{c}\n",
    "-5\\\\\n",
    "7\\\\\n",
    "0\n",
    "\\end{array}\n",
    "\\right] \n",
    "$$"
   ]
  },
  {
   "cell_type": "code",
   "execution_count": 6,
   "metadata": {},
   "outputs": [
    {
     "name": "stdout",
     "output_type": "stream",
     "text": [
      "A:\n",
      "array([[ 0,  1, -1],\n",
      "       [-2,  4, -1],\n",
      "       [-2,  5, -4]])\n",
      "P:\n",
      "array([[0., 1., 0.],\n",
      "       [1., 0., 0.],\n",
      "       [0., 0., 1.]])\n",
      "L:\n",
      "array([[ 1.,  0.,  0.],\n",
      "       [-0.,  1.,  0.],\n",
      "       [ 1.,  1.,  1.]])\n",
      "U:\n",
      "array([[-2.,  4., -1.],\n",
      "       [ 0.,  1., -1.],\n",
      "       [ 0.,  0., -2.]])\n"
     ]
    }
   ],
   "source": [
    "#Ingresando los valores de la matriz A:\n",
    "\n",
    "A = scipy.array([[0,1,-1],[-2,4,-1],[-2,5,-4]])\n",
    "\n",
    "#Obteniendo los factores P, L, U de la matriz A:\n",
    "P, L, U = scipy.linalg.lu(A)\n",
    "\n",
    "print('A:')\n",
    "pprint.pprint(A)\n",
    "print('P:')\n",
    "pprint.pprint(P)\n",
    "print('L:')\n",
    "pprint.pprint(L)\n",
    "print('U:')\n",
    "pprint.pprint(U)\n",
    "\n",
    "#No es necesario verificar que LU es igual a PA, puesto que esto se realizó en el ejericicio previo. "
   ]
  },
  {
   "cell_type": "code",
   "execution_count": 7,
   "metadata": {},
   "outputs": [
    {
     "name": "stdout",
     "output_type": "stream",
     "text": [
      "Usando los factores P,L,U para resolver AX = B\n",
      "X:\n",
      "array([[-12.],\n",
      "       [ -4.],\n",
      "       [  1.]])\n"
     ]
    }
   ],
   "source": [
    "#Empleando los factores P, L, U para resolver AX=B\n",
    "\n",
    "print('Usando los factores P,L,U para resolver AX = B')\n",
    "\n",
    "B = scipy.array([[-5],[7],[0]])\n",
    "\n",
    "D = scipy.linalg.solve_triangular(L,P@B,lower=True)\n",
    "X = scipy.linalg.solve_triangular(U,D) #default es usar una triangular superior\n",
    "print('X:')\n",
    "pprint.pprint(X)"
   ]
  },
  {
   "cell_type": "code",
   "execution_count": 8,
   "metadata": {},
   "outputs": [
    {
     "name": "stdout",
     "output_type": "stream",
     "text": [
      "Verificando resultado AX = B\n",
      "B:\n",
      "array([[-5],\n",
      "       [ 7],\n",
      "       [ 0]])\n",
      "AX:\n",
      "array([[-5.],\n",
      "       [ 7.],\n",
      "       [ 0.]])\n"
     ]
    }
   ],
   "source": [
    "print('Verificando resultado AX = B')\n",
    "print('B:')\n",
    "pprint.pprint(B)\n",
    "print('AX:')\n",
    "pprint.pprint(A@X)"
   ]
  },
  {
   "cell_type": "markdown",
   "metadata": {},
   "source": [
    "$$ A = \\left[\\begin{array}{ccc}\n",
    "1 & 2& 2\\\\\n",
    "2 & 5& 7\\\\\n",
    "3 & 6& 6\n",
    "\\end{array}\n",
    "\\right],\n",
    "b=\n",
    "\\left[\\begin{array}{c}\n",
    "0\\\\\n",
    "0\\\\\n",
    "0\n",
    "\\end{array}\n",
    "\\right] \n",
    "$$"
   ]
  },
  {
   "cell_type": "code",
   "execution_count": 9,
   "metadata": {},
   "outputs": [
    {
     "name": "stdout",
     "output_type": "stream",
     "text": [
      "A:\n",
      "array([[1, 2, 2],\n",
      "       [2, 5, 7],\n",
      "       [3, 6, 6]])\n",
      "P:\n",
      "array([[0., 0., 1.],\n",
      "       [0., 1., 0.],\n",
      "       [1., 0., 0.]])\n",
      "L:\n",
      "array([[1.        , 0.        , 0.        ],\n",
      "       [0.66666667, 1.        , 0.        ],\n",
      "       [0.33333333, 0.        , 1.        ]])\n",
      "U:\n",
      "array([[3., 6., 6.],\n",
      "       [0., 1., 3.],\n",
      "       [0., 0., 0.]])\n"
     ]
    }
   ],
   "source": [
    "#Ingresando los valores de la matriz A:\n",
    "\n",
    "A = scipy.array([[1,2,2],[2,5,7],[3,6,6]])\n",
    "\n",
    "#Obteniendo los factores P, L, U de la matriz A:\n",
    "P, L, U = scipy.linalg.lu(A)\n",
    "\n",
    "print('A:')\n",
    "pprint.pprint(A)\n",
    "print('P:')\n",
    "pprint.pprint(P)\n",
    "print('L:')\n",
    "pprint.pprint(L)\n",
    "print('U:')\n",
    "pprint.pprint(U)"
   ]
  },
  {
   "cell_type": "code",
   "execution_count": 10,
   "metadata": {},
   "outputs": [
    {
     "name": "stdout",
     "output_type": "stream",
     "text": [
      "Verificando que es igual LU al producto PA\n",
      "L*U:\n",
      "array([[3., 6., 6.],\n",
      "       [2., 5., 7.],\n",
      "       [1., 2., 2.]])\n",
      "P*A\n",
      "array([[3., 6., 6.],\n",
      "       [2., 5., 7.],\n",
      "       [1., 2., 2.]])\n"
     ]
    }
   ],
   "source": [
    "#Verificando que LU es igual a PA.\n",
    "\n",
    "print('Verificando que es igual LU al producto PA')\n",
    "print('L*U:')\n",
    "pprint.pprint(L@U)\n",
    "print('P*A')\n",
    "pprint.pprint(P@A)"
   ]
  },
  {
   "cell_type": "code",
   "execution_count": 11,
   "metadata": {},
   "outputs": [
    {
     "name": "stdout",
     "output_type": "stream",
     "text": [
      "Usando los factores P,L,U para resolver AX = B\n"
     ]
    },
    {
     "ename": "LinAlgError",
     "evalue": "singular matrix: resolution failed at diagonal 2",
     "output_type": "error",
     "traceback": [
      "\u001b[0;31m---------------------------------------------------------------------------\u001b[0m",
      "\u001b[0;31mLinAlgError\u001b[0m                               Traceback (most recent call last)",
      "\u001b[0;32m<ipython-input-11-4b3236e0b031>\u001b[0m in \u001b[0;36m<module>\u001b[0;34m\u001b[0m\n\u001b[1;32m      6\u001b[0m \u001b[0;34m\u001b[0m\u001b[0m\n\u001b[1;32m      7\u001b[0m \u001b[0mD\u001b[0m \u001b[0;34m=\u001b[0m \u001b[0mscipy\u001b[0m\u001b[0;34m.\u001b[0m\u001b[0mlinalg\u001b[0m\u001b[0;34m.\u001b[0m\u001b[0msolve_triangular\u001b[0m\u001b[0;34m(\u001b[0m\u001b[0mL\u001b[0m\u001b[0;34m,\u001b[0m\u001b[0mP\u001b[0m\u001b[0;34m@\u001b[0m\u001b[0mB\u001b[0m\u001b[0;34m,\u001b[0m\u001b[0mlower\u001b[0m\u001b[0;34m=\u001b[0m\u001b[0;32mTrue\u001b[0m\u001b[0;34m)\u001b[0m\u001b[0;34m\u001b[0m\u001b[0;34m\u001b[0m\u001b[0m\n\u001b[0;32m----> 8\u001b[0;31m \u001b[0mX\u001b[0m \u001b[0;34m=\u001b[0m \u001b[0mscipy\u001b[0m\u001b[0;34m.\u001b[0m\u001b[0mlinalg\u001b[0m\u001b[0;34m.\u001b[0m\u001b[0msolve_triangular\u001b[0m\u001b[0;34m(\u001b[0m\u001b[0mU\u001b[0m\u001b[0;34m,\u001b[0m\u001b[0mD\u001b[0m\u001b[0;34m)\u001b[0m \u001b[0;31m#default es usar una triangular superior\u001b[0m\u001b[0;34m\u001b[0m\u001b[0;34m\u001b[0m\u001b[0m\n\u001b[0m\u001b[1;32m      9\u001b[0m \u001b[0mprint\u001b[0m\u001b[0;34m(\u001b[0m\u001b[0;34m'X:'\u001b[0m\u001b[0;34m)\u001b[0m\u001b[0;34m\u001b[0m\u001b[0;34m\u001b[0m\u001b[0m\n\u001b[1;32m     10\u001b[0m \u001b[0mpprint\u001b[0m\u001b[0;34m.\u001b[0m\u001b[0mpprint\u001b[0m\u001b[0;34m(\u001b[0m\u001b[0mX\u001b[0m\u001b[0;34m)\u001b[0m\u001b[0;34m\u001b[0m\u001b[0;34m\u001b[0m\u001b[0m\n",
      "\u001b[0;32m~/.virtualenvs/propedeutico/lib/python3.6/site-packages/scipy/linalg/basic.py\u001b[0m in \u001b[0;36msolve_triangular\u001b[0;34m(a, b, trans, lower, unit_diagonal, overwrite_b, debug, check_finite)\u001b[0m\n\u001b[1;32m    351\u001b[0m     \u001b[0;32mif\u001b[0m \u001b[0minfo\u001b[0m \u001b[0;34m>\u001b[0m \u001b[0;36m0\u001b[0m\u001b[0;34m:\u001b[0m\u001b[0;34m\u001b[0m\u001b[0;34m\u001b[0m\u001b[0m\n\u001b[1;32m    352\u001b[0m         raise LinAlgError(\"singular matrix: resolution failed at diagonal %d\" %\n\u001b[0;32m--> 353\u001b[0;31m                           (info-1))\n\u001b[0m\u001b[1;32m    354\u001b[0m     raise ValueError('illegal value in %d-th argument of internal trtrs' %\n\u001b[1;32m    355\u001b[0m                      (-info))\n",
      "\u001b[0;31mLinAlgError\u001b[0m: singular matrix: resolution failed at diagonal 2"
     ]
    }
   ],
   "source": [
    "#Empleando los factores P, L, U para resolver AX=B\n",
    "\n",
    "print('Usando los factores P,L,U para resolver AX = B')\n",
    "\n",
    "B = scipy.array([[0],[0],[0]])\n",
    "\n",
    "D = scipy.linalg.solve_triangular(L,P@B,lower=True)\n",
    "X = scipy.linalg.solve_triangular(U,D) #default es usar una triangular superior\n",
    "print('X:')\n",
    "pprint.pprint(X)"
   ]
  },
  {
   "cell_type": "markdown",
   "metadata": {},
   "source": [
    "**Ejercicio 2:** Resolver el ejercicio con la factorización QR del paquete numpy de la matriz A y verificar resultado."
   ]
  },
  {
   "cell_type": "markdown",
   "metadata": {},
   "source": [
    "$$ A = \\left[\\begin{array}{ccc}\n",
    "1 & 4& 1\\\\\n",
    "1 & 6& -1\\\\\n",
    "2 & -1& 2\n",
    "\\end{array}\n",
    "\\right],\n",
    "b=\n",
    "\\left[\\begin{array}{c}\n",
    "7& -1\\\\\n",
    "13& 6\\\\\n",
    "5& 7\n",
    "\\end{array}\n",
    "\\right] \n",
    "$$"
   ]
  },
  {
   "cell_type": "code",
   "execution_count": 12,
   "metadata": {},
   "outputs": [],
   "source": [
    "A = np.array([[1, 4, 1], [1, 6, -1], [2, -1, 2]])\n",
    "b = np.array([[7, -1], [13, 6], [5, 7]])"
   ]
  },
  {
   "cell_type": "code",
   "execution_count": 13,
   "metadata": {},
   "outputs": [],
   "source": [
    "#Calculando Q y R con el paquete numpy\n",
    "q, r = np.linalg.qr(A)"
   ]
  },
  {
   "cell_type": "code",
   "execution_count": 14,
   "metadata": {},
   "outputs": [
    {
     "name": "stdout",
     "output_type": "stream",
     "text": [
      "qr factorization of the said array:\n",
      "q=\n",
      " [[-0.40824829 -0.40985242 -0.81569255]\n",
      " [-0.40824829 -0.71724173  0.56471022]\n",
      " [-0.81649658  0.56354707  0.12549116]] \n",
      "r=\n",
      " [[-2.44948974 -3.26598632 -1.63299316]\n",
      " [ 0.         -6.5064071   1.43448345]\n",
      " [ 0.          0.         -1.12942045]]\n"
     ]
    }
   ],
   "source": [
    "print(\"qr factorization of the said array:\")\n",
    "print( \"q=\\n\", q, \"\\nr=\\n\", r)"
   ]
  },
  {
   "cell_type": "code",
   "execution_count": 15,
   "metadata": {},
   "outputs": [
    {
     "data": {
      "text/plain": [
       "array([[ 1.,  4.,  1.],\n",
       "       [ 1.,  6., -1.],\n",
       "       [ 2., -1.,  2.]])"
      ]
     },
     "execution_count": 15,
     "metadata": {},
     "output_type": "execute_result"
    }
   ],
   "source": [
    "#Verificando el resultado: A=QR\n",
    "q@r\n"
   ]
  },
  {
   "cell_type": "code",
   "execution_count": null,
   "metadata": {},
   "outputs": [],
   "source": []
  },
  {
   "cell_type": "code",
   "execution_count": null,
   "metadata": {},
   "outputs": [],
   "source": []
  }
 ],
 "metadata": {
  "kernelspec": {
   "display_name": "Python 3",
   "language": "python",
   "name": "python3"
  },
  "language_info": {
   "codemirror_mode": {
    "name": "ipython",
    "version": 3
   },
   "file_extension": ".py",
   "mimetype": "text/x-python",
   "name": "python",
   "nbconvert_exporter": "python",
   "pygments_lexer": "ipython3",
   "version": "3.6.8"
  }
 },
 "nbformat": 4,
 "nbformat_minor": 2
}
