{
 "cells": [
  {
   "cell_type": "markdown",
   "metadata": {},
   "source": [
    "**EJERCICIO 1**: APROXIMAR EL VALOR DE LA INTEGRAL $\\displaystyle \\int_0^{\\pi}sin(x)dx = 2$ CON REGLAS COMPUESTAS DEL RECTÁNGULO Y TRAPECIO CON UN NÚMERO DE SUBINTERVALOS $n \\in \\{1,10,20,30,40 \\}$ Y HACER GRÁFICA DE LA FORMA ERROR RELATIVO VS $n$ ($n$ EN EL EJE HORIZONTAL)"
   ]
  },
  {
   "cell_type": "code",
   "execution_count": 67,
   "metadata": {},
   "outputs": [],
   "source": [
    "import numpy as np\n",
    "import matplotlib.pyplot as plt\n",
    "import math as m\n",
    "import sympy as sp\n",
    "from numpy import sin, arange, cos, array\n",
    "from math import pi, e"
   ]
  },
  {
   "cell_type": "markdown",
   "metadata": {},
   "source": [
    "**1.** APROXIMACIÓN POR REGLA DEL TRAPEZOIDE COMPUESTO"
   ]
  },
  {
   "cell_type": "code",
   "execution_count": 2,
   "metadata": {},
   "outputs": [],
   "source": [
    "#calculando la integral analítica \n",
    "integral_analítica= -(cos (pi)-cos(0))"
   ]
  },
  {
   "cell_type": "code",
   "execution_count": 3,
   "metadata": {},
   "outputs": [
    {
     "name": "stdout",
     "output_type": "stream",
     "text": [
      "[3.14159265 0.31415927 0.15707963 0.10471976 0.07853982]\n"
     ]
    }
   ],
   "source": [
    "#largo del ancho según la cantidad de subintervalos\n",
    "n= (1, 1/10, 1/20, 1/30, 1/40)\n",
    "n=array(n)\n",
    "pi= m.pi*np.ones(5)\n",
    "h=pi*n\n",
    "print (h) #matriz de los anchos según la cantidad de subintervalos h= (h0, h1, h2, h3, h4)"
   ]
  },
  {
   "cell_type": "code",
   "execution_count": 4,
   "metadata": {},
   "outputs": [
    {
     "name": "stdout",
     "output_type": "stream",
     "text": [
      "5.6388337052291265e-09\n"
     ]
    }
   ],
   "source": [
    "#Aproximando el valor de la integral cuando subintervalo \"n\"=1\n",
    "\n",
    "subintervalos_h0=np.arange(0,m.pi,3.14159265) #valores de x cuando subintervalo n=1\n",
    "f0=sin(subintervalos_h0) # f en los diversos puntos\n",
    "I0=((f0[0]+f0[1]))*h[0]/2\n",
    "print (I0) #pésima aproximacion\n"
   ]
  },
  {
   "cell_type": "code",
   "execution_count": 5,
   "metadata": {},
   "outputs": [
    {
     "name": "stdout",
     "output_type": "stream",
     "text": [
      "1.9835235077195912\n"
     ]
    }
   ],
   "source": [
    "#Aproximando el valor de la integral cuando subintervalo \"n\"=10\n",
    "\n",
    "subintervalos_h1=np.arange(0,3.15,0.31415927) #valores de x cuando subintervalo n=10\n",
    "f1=sin(subintervalos_h1)\n",
    "I1=((f1[0]+2*(f1[1]+f1[2]+f1[3]+f1[4]+f1[5]+f1[6]+f1[7]+ f1[8]+ f1[9])+f1[10]))*((h[1])/2)\n",
    "print (I1)"
   ]
  },
  {
   "cell_type": "code",
   "execution_count": 22,
   "metadata": {},
   "outputs": [
    {
     "data": {
      "text/plain": [
       "array([ 0.00000000e+00,  3.09016999e-01,  5.87785260e-01,  8.09017003e-01,\n",
       "        9.51056522e-01,  1.00000000e+00,  9.51056508e-01,  8.09016975e-01,\n",
       "        5.87785222e-01,  3.09016955e-01, -4.64102067e-08])"
      ]
     },
     "execution_count": 22,
     "metadata": {},
     "output_type": "execute_result"
    }
   ],
   "source": [
    "f1"
   ]
  },
  {
   "cell_type": "code",
   "execution_count": 6,
   "metadata": {},
   "outputs": [
    {
     "name": "stdout",
     "output_type": "stream",
     "text": [
      "1.9958860068952713\n"
     ]
    }
   ],
   "source": [
    "#Aproximando el valor de la integral cuando subintervalo \"n\"=20\n",
    "\n",
    "subintervalos_h2=np.arange(0,3.15,0.15707963) #valores de x cuando subintervalo n=20\n",
    "f2=sin(subintervalos_h2)\n",
    "I2=((f2[0]+2*(f2[1]+f2[2]+f2[3]+f2[4]+f2[5]+f2[6]+f2[7]+ f2[8]+ f2[9]+f2[10]+f2[11]+f2[12]+f2[13]+f2[14]+f2[15]+f2[16]+f2[17]+f2[18]+f2[19])+f2[20]))*((h[2])/2)\n",
    "print (I2)"
   ]
  },
  {
   "cell_type": "code",
   "execution_count": 7,
   "metadata": {},
   "outputs": [
    {
     "name": "stdout",
     "output_type": "stream",
     "text": [
      "1.99817186805079\n"
     ]
    }
   ],
   "source": [
    "#Aproximando el valor de la integral cuando subintervalo \"n\"=30\n",
    "\n",
    "subintervalos_h3=np.arange(0,3.15,0.10471976) #valores de x cuando subintervalo n=30\n",
    "f3=sin(subintervalos_h3)\n",
    "I3=((f3[0]+2*(f3[1]+ f3[2]+f3[3]+f3[4]+f3[5]+f3[6]+f3[7]+ f3[8]+ f3[9]+f3[10]+f3[11]+f3[12]+f3[13]+f3[14]+f3[15]+f3[16]+f3[17]+f3[18]+f3[19]+f3[20]+f3[21]+f3[22]+f3[23]+f3[24]+f3[25]+f3[26]+f3[27]+f3[28]+f3[29])+f3[30]))*((h[3])/2)\n",
    "print (I3)"
   ]
  },
  {
   "cell_type": "code",
   "execution_count": 8,
   "metadata": {},
   "outputs": [
    {
     "name": "stdout",
     "output_type": "stream",
     "text": [
      "1.9989717172414996\n"
     ]
    }
   ],
   "source": [
    "#Aproximando el valor de la integral cuando subintervalo \"n\"=30\n",
    "\n",
    "subintervalos_h4=np.arange(0,3.15,0.07853982) #valores de x cuando subintervalo n=40\n",
    "f4=sin(subintervalos_h4)\n",
    "I4=((f4[0]+2*(f4[1]+ f4[2]+f4[3]+f4[4]+f4[5]+f4[6]+f4[7]+ f4[8]+ f4[9]+f4[10]+f4[11]+f4[12]+f4[13]+f4[14]+f4[15]+f4[16]+f4[17]+f4[18]+f4[19]+f4[20]+f4[21]+f4[22]+f4[23]+f4[24]+f4[25]+f4[26]+f4[27]+f4[28]+f4[29]+f4[30]+f4[31]+f4[32]+f4[33]+f4[34]+f4[35]+f4[36]+f4[37]+f4[38]+f4[39])+f4[40]))*((h[4])/2)\n",
    "print (I4)"
   ]
  },
  {
   "cell_type": "code",
   "execution_count": 9,
   "metadata": {},
   "outputs": [
    {
     "name": "stdout",
     "output_type": "stream",
     "text": [
      "[5.63883371e-09 1.98352351e+00 1.99588601e+00 1.99817187e+00\n",
      " 1.99897172e+00]\n",
      "[-2. -2. -2. -2. -2.]\n",
      "[9.99999997e-01 8.23824614e-03 2.05699655e-03 9.14065975e-04\n",
      " 5.14141379e-04]\n"
     ]
    }
   ],
   "source": [
    "#Calculando el error relativo\n",
    "\n",
    "I=(I0,I1,I2,I3,I4)\n",
    "I=array(I)\n",
    "print (I) #aproximaciones de la integral en forma de vector\n",
    "\n",
    "IA=(-1)*integral_analítica*np.ones(5)\n",
    "print (IA)\n",
    "\n",
    "er= abs(I+IA)/abs(IA)\n",
    "print (er) #vector de errores cuando n=[0, 10, 20, 30, 40]\n"
   ]
  },
  {
   "cell_type": "code",
   "execution_count": 10,
   "metadata": {},
   "outputs": [],
   "source": [
    "subintervalos=[1, 10, 20, 30, 40]\n",
    "subintervalos=array(subintervalos)\n"
   ]
  },
  {
   "cell_type": "code",
   "execution_count": 11,
   "metadata": {},
   "outputs": [
    {
     "data": {
      "image/png": "[encoded data removed]",
      "text/plain": [
       "<Figure size 432x288 with 1 Axes>"
      ]
     },
     "metadata": {
      "needs_background": "light"
     },
     "output_type": "display_data"
    }
   ],
   "source": [
    "plt.plot(subintervalos,er, 's-', color='#4169E1')\n",
    "\n",
    "plt.title ('Aproximación de integral por regla del trapezoide compuesto: error relativo vs n', color= '#4169E1') #adding a title\n",
    "plt.xlabel('n') #add label to x-axis\n",
    "plt.ylabel('error relativo') #add label to x-axis\n",
    "plt.grid(True) #adding coordinate grid\n",
    "plt.show() #showing plot on screen\n"
   ]
  },
  {
   "cell_type": "code",
   "execution_count": null,
   "metadata": {},
   "outputs": [],
   "source": []
  },
  {
   "cell_type": "code",
   "execution_count": null,
   "metadata": {},
   "outputs": [],
   "source": []
  },
  {
   "cell_type": "code",
   "execution_count": null,
   "metadata": {},
   "outputs": [],
   "source": []
  },
  {
   "cell_type": "markdown",
   "metadata": {},
   "source": [
    "**EJERCICIO 2:** APROXIMAR LA INTEGRAL DE:\n",
    "$$\\displaystyle \\int_0^1e^{-\\frac{t^2}{2}}dt$$\n",
    "\n",
    "CON CUADRATURA GAUSS-LEGENDRE CON $n \\in \\{0,1,2,3,4\\}$. REALIZAR LA GRÁFICA DE LA FORMA ERROR RELATIVO VS $n$. **VALOR A APROXIMAR: $.855624391892149$**\n"
   ]
  },
  {
   "cell_type": "markdown",
   "metadata": {},
   "source": [
    "_*Cuadratura de Gauss-Legendre:*_"
   ]
  },
  {
   "cell_type": "markdown",
   "metadata": {},
   "source": [
    "$$\\int\\limits_a^b f(x)\\,dx \\approx \\frac{b-a}{2} \\sum\\limits_{i=1}^{n} { A_i f(x_i)} $$"
   ]
  },
  {
   "cell_type": "markdown",
   "metadata": {},
   "source": [
    "*donde las abcisas $x_i$ son computadas a partir de:* $x = \\frac{b+a}{2} + \\frac{b-a}{2} \\xi $"
   ]
  },
  {
   "cell_type": "markdown",
   "metadata": {},
   "source": [
    "Y para una integral en $[a,b]$ se tiene:\n",
    "\n",
    "$$\\displaystyle \\int_{a}^{b}f(t)dt \\approx \\frac{(b-a)}{2} \\displaystyle \\sum_{i=0}^nw_if \\left (\\frac{1}{2}[(b-a)x_i+a+b] \\right )$$\n",
    "con los pesos definidos para el intervalo $[-1,1]$"
   ]
  },
  {
   "cell_type": "markdown",
   "metadata": {},
   "source": [
    "*y el truncation error es:*"
   ]
  },
  {
   "cell_type": "markdown",
   "metadata": {},
   "source": [
    "$E=\\frac{(b-a)^{2n+3}[(n+1)!]^4} {(2n+3)((2n+2)!)^3}f^{2n+2}(c),   a<c<b$"
   ]
  },
  {
   "cell_type": "markdown",
   "metadata": {},
   "source": []
  },
  {
   "cell_type": "code",
   "execution_count": 48,
   "metadata": {},
   "outputs": [],
   "source": [
    "valor_integral= 0.855624391892149"
   ]
  },
  {
   "cell_type": "code",
   "execution_count": 70,
   "metadata": {},
   "outputs": [],
   "source": [
    "from numpy import *"
   ]
  },
  {
   "cell_type": "code",
   "execution_count": 71,
   "metadata": {},
   "outputs": [],
   "source": []
  },
  {
   "cell_type": "code",
   "execution_count": null,
   "metadata": {},
   "outputs": [],
   "source": [
    "#Cuando n=1\n",
    "xi = np.array([-0.577350, 0.577350])\n",
    "Ai = np.array([1.000000, 1.000000])\n",
    "def gauss(f, a, b, E, A):\n",
    "    x"
   ]
  },
  {
   "cell_type": "code",
   "execution_count": null,
   "metadata": {},
   "outputs": [],
   "source": []
  },
  {
   "cell_type": "code",
   "execution_count": 69,
   "metadata": {},
   "outputs": [
    {
     "ename": "TypeError",
     "evalue": "ufunc 'bitwise_xor' not supported for the input types, and the inputs could not be safely coerced to any supported types according to the casting rule ''safe''",
     "output_type": "error",
     "traceback": [
      "\u001b[0;31m---------------------------------------------------------------------------\u001b[0m",
      "\u001b[0;31mTypeError\u001b[0m                                 Traceback (most recent call last)",
      "\u001b[0;32m<ipython-input-69-df2a50ed9fa4>\u001b[0m in \u001b[0;36m<module>\u001b[0;34m\u001b[0m\n\u001b[1;32m     12\u001b[0m \u001b[0ma\u001b[0m \u001b[0;34m=\u001b[0m \u001b[0;36m0.0\u001b[0m\u001b[0;34m;\u001b[0m \u001b[0mb\u001b[0m \u001b[0;34m=\u001b[0m \u001b[0;36m1\u001b[0m\u001b[0;34m\u001b[0m\u001b[0;34m\u001b[0m\u001b[0m\n\u001b[1;32m     13\u001b[0m \u001b[0;34m\u001b[0m\u001b[0m\n\u001b[0;32m---> 14\u001b[0;31m \u001b[0mareaGau\u001b[0m \u001b[0;34m=\u001b[0m \u001b[0mgauss\u001b[0m\u001b[0;34m(\u001b[0m\u001b[0mf\u001b[0m\u001b[0;34m,\u001b[0m \u001b[0ma\u001b[0m\u001b[0;34m,\u001b[0m \u001b[0mb\u001b[0m\u001b[0;34m,\u001b[0m \u001b[0mE\u001b[0m\u001b[0;34m,\u001b[0m \u001b[0mA\u001b[0m\u001b[0;34m)\u001b[0m\u001b[0;34m\u001b[0m\u001b[0;34m\u001b[0m\u001b[0m\n\u001b[0m\u001b[1;32m     15\u001b[0m \u001b[0mprint\u001b[0m\u001b[0;34m(\u001b[0m\u001b[0;34m\"Gaussian integral: \"\u001b[0m\u001b[0;34m,\u001b[0m \u001b[0mareaGau\u001b[0m\u001b[0;34m)\u001b[0m\u001b[0;34m\u001b[0m\u001b[0;34m\u001b[0m\u001b[0m\n",
      "\u001b[0;32m<ipython-input-69-df2a50ed9fa4>\u001b[0m in \u001b[0;36mgauss\u001b[0;34m(f, a, b, E, A)\u001b[0m\n\u001b[1;32m      7\u001b[0m     \u001b[0;32mfor\u001b[0m \u001b[0mi\u001b[0m \u001b[0;32min\u001b[0m \u001b[0mrange\u001b[0m\u001b[0;34m(\u001b[0m\u001b[0;36m3\u001b[0m\u001b[0;34m)\u001b[0m\u001b[0;34m:\u001b[0m\u001b[0;34m\u001b[0m\u001b[0;34m\u001b[0m\u001b[0m\n\u001b[1;32m      8\u001b[0m         \u001b[0mx\u001b[0m\u001b[0;34m[\u001b[0m\u001b[0mi\u001b[0m\u001b[0;34m]\u001b[0m \u001b[0;34m=\u001b[0m \u001b[0;34m(\u001b[0m\u001b[0mb\u001b[0m\u001b[0;34m+\u001b[0m\u001b[0ma\u001b[0m\u001b[0;34m)\u001b[0m\u001b[0;34m/\u001b[0m\u001b[0;36m2\u001b[0m \u001b[0;34m+\u001b[0m \u001b[0;34m(\u001b[0m\u001b[0mb\u001b[0m\u001b[0;34m-\u001b[0m\u001b[0ma\u001b[0m\u001b[0;34m)\u001b[0m\u001b[0;34m/\u001b[0m\u001b[0;36m2\u001b[0m \u001b[0;34m*\u001b[0m \u001b[0mE\u001b[0m\u001b[0;34m[\u001b[0m\u001b[0mi\u001b[0m\u001b[0;34m]\u001b[0m\u001b[0;34m\u001b[0m\u001b[0;34m\u001b[0m\u001b[0m\n\u001b[0;32m----> 9\u001b[0;31m     \u001b[0;32mreturn\u001b[0m \u001b[0;34m(\u001b[0m\u001b[0mb\u001b[0m\u001b[0;34m-\u001b[0m\u001b[0ma\u001b[0m\u001b[0;34m)\u001b[0m\u001b[0;34m/\u001b[0m\u001b[0;36m2\u001b[0m \u001b[0;34m*\u001b[0m \u001b[0;34m(\u001b[0m\u001b[0mA\u001b[0m\u001b[0;34m[\u001b[0m\u001b[0;36m0\u001b[0m\u001b[0;34m]\u001b[0m\u001b[0;34m*\u001b[0m\u001b[0mf\u001b[0m\u001b[0;34m(\u001b[0m\u001b[0mx\u001b[0m\u001b[0;34m[\u001b[0m\u001b[0;36m0\u001b[0m\u001b[0;34m]\u001b[0m\u001b[0;34m)\u001b[0m \u001b[0;34m+\u001b[0m \u001b[0mA\u001b[0m\u001b[0;34m[\u001b[0m\u001b[0;36m1\u001b[0m\u001b[0;34m]\u001b[0m\u001b[0;34m*\u001b[0m\u001b[0mf\u001b[0m\u001b[0;34m(\u001b[0m\u001b[0mx\u001b[0m\u001b[0;34m[\u001b[0m\u001b[0;36m1\u001b[0m\u001b[0;34m]\u001b[0m\u001b[0;34m)\u001b[0m \u001b[0;34m+\u001b[0m \u001b[0mA\u001b[0m\u001b[0;34m[\u001b[0m\u001b[0;36m2\u001b[0m\u001b[0;34m]\u001b[0m\u001b[0;34m*\u001b[0m\u001b[0mf\u001b[0m\u001b[0;34m(\u001b[0m\u001b[0mx\u001b[0m\u001b[0;34m[\u001b[0m\u001b[0;36m2\u001b[0m\u001b[0;34m]\u001b[0m\u001b[0;34m)\u001b[0m\u001b[0;34m)\u001b[0m\u001b[0;34m\u001b[0m\u001b[0;34m\u001b[0m\u001b[0m\n\u001b[0m\u001b[1;32m     10\u001b[0m \u001b[0;34m\u001b[0m\u001b[0m\n\u001b[1;32m     11\u001b[0m \u001b[0mf\u001b[0m \u001b[0;34m=\u001b[0m \u001b[0;32mlambda\u001b[0m \u001b[0mx\u001b[0m\u001b[0;34m:\u001b[0m \u001b[0me\u001b[0m\u001b[0;34m**\u001b[0m\u001b[0;34m-\u001b[0m\u001b[0;34m(\u001b[0m\u001b[0;34m(\u001b[0m\u001b[0mx\u001b[0m\u001b[0;34m^\u001b[0m\u001b[0;36m2\u001b[0m\u001b[0;34m)\u001b[0m\u001b[0;34m/\u001b[0m\u001b[0;36m2\u001b[0m\u001b[0;34m)\u001b[0m\u001b[0;34m\u001b[0m\u001b[0;34m\u001b[0m\u001b[0m\n",
      "\u001b[0;32m<ipython-input-69-df2a50ed9fa4>\u001b[0m in \u001b[0;36m<lambda>\u001b[0;34m(x)\u001b[0m\n\u001b[1;32m      9\u001b[0m     \u001b[0;32mreturn\u001b[0m \u001b[0;34m(\u001b[0m\u001b[0mb\u001b[0m\u001b[0;34m-\u001b[0m\u001b[0ma\u001b[0m\u001b[0;34m)\u001b[0m\u001b[0;34m/\u001b[0m\u001b[0;36m2\u001b[0m \u001b[0;34m*\u001b[0m \u001b[0;34m(\u001b[0m\u001b[0mA\u001b[0m\u001b[0;34m[\u001b[0m\u001b[0;36m0\u001b[0m\u001b[0;34m]\u001b[0m\u001b[0;34m*\u001b[0m\u001b[0mf\u001b[0m\u001b[0;34m(\u001b[0m\u001b[0mx\u001b[0m\u001b[0;34m[\u001b[0m\u001b[0;36m0\u001b[0m\u001b[0;34m]\u001b[0m\u001b[0;34m)\u001b[0m \u001b[0;34m+\u001b[0m \u001b[0mA\u001b[0m\u001b[0;34m[\u001b[0m\u001b[0;36m1\u001b[0m\u001b[0;34m]\u001b[0m\u001b[0;34m*\u001b[0m\u001b[0mf\u001b[0m\u001b[0;34m(\u001b[0m\u001b[0mx\u001b[0m\u001b[0;34m[\u001b[0m\u001b[0;36m1\u001b[0m\u001b[0;34m]\u001b[0m\u001b[0;34m)\u001b[0m \u001b[0;34m+\u001b[0m \u001b[0mA\u001b[0m\u001b[0;34m[\u001b[0m\u001b[0;36m2\u001b[0m\u001b[0;34m]\u001b[0m\u001b[0;34m*\u001b[0m\u001b[0mf\u001b[0m\u001b[0;34m(\u001b[0m\u001b[0mx\u001b[0m\u001b[0;34m[\u001b[0m\u001b[0;36m2\u001b[0m\u001b[0;34m]\u001b[0m\u001b[0;34m)\u001b[0m\u001b[0;34m)\u001b[0m\u001b[0;34m\u001b[0m\u001b[0;34m\u001b[0m\u001b[0m\n\u001b[1;32m     10\u001b[0m \u001b[0;34m\u001b[0m\u001b[0m\n\u001b[0;32m---> 11\u001b[0;31m \u001b[0mf\u001b[0m \u001b[0;34m=\u001b[0m \u001b[0;32mlambda\u001b[0m \u001b[0mx\u001b[0m\u001b[0;34m:\u001b[0m \u001b[0me\u001b[0m\u001b[0;34m**\u001b[0m\u001b[0;34m-\u001b[0m\u001b[0;34m(\u001b[0m\u001b[0;34m(\u001b[0m\u001b[0mx\u001b[0m\u001b[0;34m^\u001b[0m\u001b[0;36m2\u001b[0m\u001b[0;34m)\u001b[0m\u001b[0;34m/\u001b[0m\u001b[0;36m2\u001b[0m\u001b[0;34m)\u001b[0m\u001b[0;34m\u001b[0m\u001b[0;34m\u001b[0m\u001b[0m\n\u001b[0m\u001b[1;32m     12\u001b[0m \u001b[0ma\u001b[0m \u001b[0;34m=\u001b[0m \u001b[0;36m0.0\u001b[0m\u001b[0;34m;\u001b[0m \u001b[0mb\u001b[0m \u001b[0;34m=\u001b[0m \u001b[0;36m1\u001b[0m\u001b[0;34m\u001b[0m\u001b[0;34m\u001b[0m\u001b[0m\n\u001b[1;32m     13\u001b[0m \u001b[0;34m\u001b[0m\u001b[0m\n",
      "\u001b[0;31mTypeError\u001b[0m: ufunc 'bitwise_xor' not supported for the input types, and the inputs could not be safely coerced to any supported types according to the casting rule ''safe''"
     ]
    }
   ],
   "source": [
    "#Cuando n=2\n",
    "E = np.array([-0.774597, 0.00000, 0.774597])\n",
    "A = np.array([0.555556, 0.888889, 0.555556])\n",
    "\n",
    "def gauss(f, a, b, E, A):\n",
    "    x = np.zeros(3)\n",
    "    for i in range(3):\n",
    "        x[i] = (b+a)/2 + (b-a)/2 * E[i]\n",
    "    return (b-a)/2 * (A[0]*f(x[0]) + A[1]*f(x[1]) + A[2]*f(x[2]))\n",
    "\n",
    "f = lambda x: e**-((x^2)/2)\n",
    "a = 0.0; b = 1\n",
    "\n",
    "areaGau = gauss(f, a, b, E, A)\n",
    "print(\"Gaussian integral: \", areaGau)"
   ]
  },
  {
   "cell_type": "code",
   "execution_count": null,
   "metadata": {},
   "outputs": [],
   "source": [
    "#Cuando n=3\n",
    "xi = np.array([-0.861136,-0.339981, 0.339981, 0.861136])\n",
    "Ai = np.array([0.347 855, 0.652145, 0.652145, 0.347855])"
   ]
  },
  {
   "cell_type": "code",
   "execution_count": null,
   "metadata": {},
   "outputs": [],
   "source": []
  },
  {
   "cell_type": "code",
   "execution_count": null,
   "metadata": {},
   "outputs": [],
   "source": []
  },
  {
   "cell_type": "code",
   "execution_count": null,
   "metadata": {},
   "outputs": [],
   "source": []
  },
  {
   "cell_type": "code",
   "execution_count": null,
   "metadata": {},
   "outputs": [],
   "source": []
  },
  {
   "cell_type": "markdown",
   "metadata": {},
   "source": [
    "**EJERCICIO 3:** APROXIMAR LAS INTEGRALES:"
   ]
  },
  {
   "cell_type": "markdown",
   "metadata": {},
   "source": [
    "$$(2\\pi\\sigma^2)^{-\\frac{1}{2}}\\displaystyle \\int_{-\\infty}^\\infty te^{\\frac{-(t-\\mu)^2}{2\\sigma^2}}dt$$"
   ]
  },
  {
   "cell_type": "markdown",
   "metadata": {},
   "source": [
    "\n",
    "$$(2\\pi\\sigma^2)^{-\\frac{1}{2}}\\displaystyle \\int_{-\\infty}^\\infty t^2e^{\\frac{-(t-\\mu)^2}{2\\sigma^2}}dt$$\n",
    "\n",
    "DONDE: $\\sigma=0.25, \\mu=0.15$ CUYOS VALORES RESPECTIVAMENTE SON: $0.15, 0.085$ CON CUADRATURA DE GAUSS-HERMITE. PARA LO ANTERIOR, REALIZAR CAMBIO DE VARIABLE $x=\\frac{t-\\mu}{\\sqrt{2\\sigma^2}}, dt=\\sqrt{2\\sigma^2}dx$.\n"
   ]
  },
  {
   "cell_type": "markdown",
   "metadata": {},
   "source": [
    "Despejando se obtiene:  $$t = x \\sqrt{2\\sigma^{2}} + u$$"
   ]
  },
  {
   "cell_type": "markdown",
   "metadata": {},
   "source": [
    "$$t^2 = (x \\sqrt{2\\sigma^{2}} + u)^{2}$$"
   ]
  },
  {
   "cell_type": "markdown",
   "metadata": {},
   "source": [
    "$$dt = \\sqrt{2\\sigma^{2}} dx$$"
   ]
  },
  {
   "cell_type": "markdown",
   "metadata": {},
   "source": [
    "*Cuadratura Gauss-Hermite*"
   ]
  },
  {
   "cell_type": "markdown",
   "metadata": {},
   "source": [
    "$$\\int\\limits_{-\\infty}^\\infty e^{-x^{2}} f(x)dx \\approx \\sum\\limits_{x=0}^{n} Ai f(xi)$$"
   ]
  },
  {
   "cell_type": "markdown",
   "metadata": {},
   "source": [
    "Desarrollando la primera integral a fin que quede en la forma determinada para aplicar la Cuadratura Gauss-Hermite:\n",
    "$${1 \\over \\pi} \\int_{-\\infty}^\\infty (x \\sqrt{2\\sigma^{2}} + u) e^{-x^2}dx$$ \n",
    "\n",
    "Donde:\n",
    "$$f(x)= (x \\sqrt{2\\sigma^{2}} + u)$$\n",
    "    "
   ]
  },
  {
   "cell_type": "code",
   "execution_count": 25,
   "metadata": {},
   "outputs": [],
   "source": [
    "integral_base_01=0.15 #valor de integral de la primera expresión\n",
    "integral_base_02=0.085 #valor de integral de la segunda expresión"
   ]
  },
  {
   "cell_type": "code",
   "execution_count": 38,
   "metadata": {},
   "outputs": [],
   "source": [
    "import sympy\n",
    "import math\n",
    "from sympy.integrals.quadrature import gauss_hermite\n",
    "from numpy.polynomial.hermite import hermint"
   ]
  },
  {
   "cell_type": "code",
   "execution_count": 47,
   "metadata": {},
   "outputs": [],
   "source": [
    "sigma = 0.25\n",
    "mu = 0.15\n",
    "a= math.sqrt(2*sigma**2)+ mu\n",
    "def g_hermite (x_i, A_i):\n",
    "    g_h=x[i]*a*A[i]\n",
    "    return g_h\n",
    "\n",
    "    "
   ]
  },
  {
   "cell_type": "code",
   "execution_count": 35,
   "metadata": {},
   "outputs": [
    {
     "ename": "ValueError",
     "evalue": "The truth value of an array with more than one element is ambiguous. Use a.any() or a.all()",
     "output_type": "error",
     "traceback": [
      "\u001b[0;31m---------------------------------------------------------------------------\u001b[0m",
      "\u001b[0;31mValueError\u001b[0m                                Traceback (most recent call last)",
      "\u001b[0;32m<ipython-input-35-fe5bbb2ea4d8>\u001b[0m in \u001b[0;36m<module>\u001b[0;34m\u001b[0m\n\u001b[1;32m      1\u001b[0m \u001b[0mx\u001b[0m \u001b[0;34m=\u001b[0m \u001b[0;34m(\u001b[0m\u001b[0;34m\"x\"\u001b[0m\u001b[0;34m)\u001b[0m\u001b[0;34m\u001b[0m\u001b[0;34m\u001b[0m\u001b[0m\n\u001b[0;32m----> 2\u001b[0;31m \u001b[0mp\u001b[0m \u001b[0;34m=\u001b[0m \u001b[0msympy\u001b[0m\u001b[0;34m.\u001b[0m\u001b[0mhermite_poly\u001b[0m\u001b[0;34m(\u001b[0m\u001b[0mn\u001b[0m\u001b[0;34m,\u001b[0m \u001b[0mx\u001b[0m\u001b[0;34m,\u001b[0m \u001b[0mpolys\u001b[0m\u001b[0;34m=\u001b[0m\u001b[0;32mTrue\u001b[0m\u001b[0;34m)\u001b[0m\u001b[0;34m\u001b[0m\u001b[0;34m\u001b[0m\u001b[0m\n\u001b[0m\u001b[1;32m      3\u001b[0m \u001b[0mp1\u001b[0m \u001b[0;34m=\u001b[0m \u001b[0mhermite_poly\u001b[0m\u001b[0;34m(\u001b[0m\u001b[0mn\u001b[0m\u001b[0;34m-\u001b[0m\u001b[0;36m1\u001b[0m\u001b[0;34m,\u001b[0m \u001b[0mx\u001b[0m\u001b[0;34m,\u001b[0m \u001b[0mpolys\u001b[0m\u001b[0;34m=\u001b[0m\u001b[0;32mTrue\u001b[0m\u001b[0;34m)\u001b[0m\u001b[0;34m\u001b[0m\u001b[0;34m\u001b[0m\u001b[0m\n\u001b[1;32m      4\u001b[0m \u001b[0mxi\u001b[0m \u001b[0;34m=\u001b[0m \u001b[0;34m[\u001b[0m\u001b[0;34m]\u001b[0m\u001b[0;34m\u001b[0m\u001b[0;34m\u001b[0m\u001b[0m\n\u001b[1;32m      5\u001b[0m \u001b[0mw\u001b[0m \u001b[0;34m=\u001b[0m \u001b[0;34m[\u001b[0m\u001b[0;34m]\u001b[0m\u001b[0;34m\u001b[0m\u001b[0;34m\u001b[0m\u001b[0m\n",
      "\u001b[0;32m~/.virtualenvs/propedeutico/lib/python3.6/site-packages/sympy/polys/orthopolys.py\u001b[0m in \u001b[0;36mhermite_poly\u001b[0;34m(n, x, polys)\u001b[0m\n\u001b[1;32m    218\u001b[0m         \u001b[0;34m(\u001b[0m\u001b[0mdefault\u001b[0m\u001b[0;34m)\u001b[0m \u001b[0mreturns\u001b[0m \u001b[0man\u001b[0m \u001b[0mexpression\u001b[0m\u001b[0;34m.\u001b[0m\u001b[0;34m\u001b[0m\u001b[0;34m\u001b[0m\u001b[0m\n\u001b[1;32m    219\u001b[0m     \"\"\"\n\u001b[0;32m--> 220\u001b[0;31m     \u001b[0;32mif\u001b[0m \u001b[0mn\u001b[0m \u001b[0;34m<\u001b[0m \u001b[0;36m0\u001b[0m\u001b[0;34m:\u001b[0m\u001b[0;34m\u001b[0m\u001b[0;34m\u001b[0m\u001b[0m\n\u001b[0m\u001b[1;32m    221\u001b[0m         \u001b[0;32mraise\u001b[0m \u001b[0mValueError\u001b[0m\u001b[0;34m(\u001b[0m\u001b[0;34m\"can't generate Hermite polynomial of degree %s\"\u001b[0m \u001b[0;34m%\u001b[0m \u001b[0mn\u001b[0m\u001b[0;34m)\u001b[0m\u001b[0;34m\u001b[0m\u001b[0;34m\u001b[0m\u001b[0m\n\u001b[1;32m    222\u001b[0m \u001b[0;34m\u001b[0m\u001b[0m\n",
      "\u001b[0;31mValueError\u001b[0m: The truth value of an array with more than one element is ambiguous. Use a.any() or a.all()"
     ]
    }
   ],
   "source": []
  },
  {
   "cell_type": "code",
   "execution_count": null,
   "metadata": {},
   "outputs": [],
   "source": []
  }
 ],
 "metadata": {
  "kernelspec": {
   "display_name": "Python 3",
   "language": "python",
   "name": "python3"
  },
  "language_info": {
   "codemirror_mode": {
    "name": "ipython",
    "version": 3
   },
   "file_extension": ".py",
   "mimetype": "text/x-python",
   "name": "python",
   "nbconvert_exporter": "python",
   "pygments_lexer": "ipython3",
   "version": "3.6.8"
  }
 },
 "nbformat": 4,
 "nbformat_minor": 2
}
