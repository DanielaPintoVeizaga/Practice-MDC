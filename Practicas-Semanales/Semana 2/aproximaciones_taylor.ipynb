{
 "cells": [
  {
   "cell_type": "markdown",
   "metadata": {},
   "source": [
    "**Aproximemos a la función** $\\frac{1}{x}$ en el intervalo $[1,2]$ con polinomios de Taylor de orden $n$ con $n \\in \\{0,1,2\\}$ con centro en $x_0=1.5$. Los polinomios de Taylor son:\n",
    "\n",
    "$$P_0(x) = f(x_0) = \\frac{2}{3} \\quad \\text{(constante)}$$\n",
    "$$P_1(x) = f(x_0) + f^{(1)}(x_0)(x-x_0) = \\frac{2}{3} - \\frac{1}{x_0^2}(x-x_0) \\quad \\text{(lineal)}$$\n",
    "$$P_2(x) = f(x_0) + f^{(1)}(x_0)(x-x_0) + \\frac{f^{(2)}(x_0)(x-x_0)^2}{2} = \\frac{2}{3} - \\frac{1}{x_0^2}(x-x_0) + \\frac{2}{x_0^3}(x-x_0)^2 \\quad \\text{(cuadrático)}$$\n",
    "**Ejercicio: graficar la función y los polinomios constante, lineal y cuadrático en una sola gráfica con matplotlib en el intervalo [1,2]. ¿Cuánto es la aproximación de los polinomios en x=1.9? Calcula el error relativo de tus aproximaciones.**"
   ]
  },
  {
   "cell_type": "code",
   "execution_count": 1,
   "metadata": {},
   "outputs": [],
   "source": [
    "import matplotlib as mpl\n",
    "import sympy as sy\n",
    "import matplotlib.pyplot as plt\n",
    "import numpy as np\n",
    "from numpy import arange"
   ]
  },
  {
   "cell_type": "code",
   "execution_count": 2,
   "metadata": {},
   "outputs": [],
   "source": [
    "def funcion (x):\n",
    "    f= 1/(x)\n",
    "    return f\n",
    "x=arange(1,2.1,0.1)\n",
    "f=funcion(x)\n"
   ]
  },
  {
   "cell_type": "code",
   "execution_count": 3,
   "metadata": {},
   "outputs": [
    {
     "data": {
      "image/png": "[encoded data removed]",
      "text/plain": [
       "<Figure size 432x288 with 1 Axes>"
      ]
     },
     "metadata": {
      "needs_background": "light"
     },
     "output_type": "display_data"
    }
   ],
   "source": [
    "plt.plot (x, f, 'o-', color= 'red')\n",
    "x=np.linspace(1,2, 11)\n",
    "p0=0*x+2/3\n",
    "plt.plot (x, p0, 'o-', color='pink', label='2/3')\n",
    "x=arange (1, 2.1,0.1)\n",
    "p1= 2/3 - (1/1.5**2) * (x-1.5)\n",
    "p2= 2/3 - (1/1.5**2) * (x-1.5) + ((2/1.5**3) * (x-1.5)**2)\n",
    "plt.plot(x,p1,'o-',color='#FF69B4')\n",
    "plt.plot(x,p2,'o-',color='#FF1493')\n",
    "plt.title ('Aproximación de 1/x por el teorema de Taylor') #adding a title\n",
    "plt.xlabel('x') #add label to x-axis\n",
    "plt.legend(('1/x','p0', 'p1', 'p2'),loc = 0)\n",
    "plt.grid(True) #adding coordinate grid\n",
    "plt.show() #showing plot on screen\n",
    "plt.show()"
   ]
  },
  {
   "cell_type": "code",
   "execution_count": 4,
   "metadata": {},
   "outputs": [
    {
     "name": "stdout",
     "output_type": "stream",
     "text": [
      "Valor de función 1/x, cuando x=1.9: 0.5263157894736842\n",
      "Aproximación del p0 cuando x=1.9: 0.6666666666666666\n",
      "Aproximación del p1 cuando x=1.9: 0.48888888888888893\n",
      "Aproximación del p2 cuando x=1.9: 0.5837037037037037\n"
     ]
    }
   ],
   "source": [
    "#Aproximaciones de los polinomios en x=1.9\n",
    "\n",
    "#valor de la función (1/x) en x= 1.9\n",
    "f=1/1.9\n",
    "print ('Valor de función 1/x, cuando x=1.9:',f)\n",
    "\n",
    "#valor del polinomio con grado cero en x=1.9\n",
    "p0=1/(1.5)\n",
    "print ('Aproximación del p0 cuando x=1.9:',p0)\n",
    "\n",
    "#valor del polinomio con grado 1 en x=1.9\n",
    "p1= 2/3 - (1/1.5**2) * (1.9-1.5)\n",
    "print ('Aproximación del p1 cuando x=1.9:',p1)\n",
    "\n",
    "#valor del polinomio con grado 2 en x=1.9\n",
    "p2= p1 + ((2/1.5**3) * (1.9-1.5)**2)\n",
    "print ('Aproximación del p2 cuando x=1.9:',p2)"
   ]
  },
  {
   "cell_type": "code",
   "execution_count": 5,
   "metadata": {},
   "outputs": [
    {
     "name": "stdout",
     "output_type": "stream",
     "text": [
      "error relativo del polinomio con grado 0: 0.26666666666666666\n",
      "error relativo del polinomio con grado 1: 0.07111111111111099\n",
      "error relativo del polinomio con grado 2: 0.10903703703703714\n"
     ]
    }
   ],
   "source": [
    "\n",
    "#Errores relativos\n",
    "\n",
    "e0=abs(p0-f)/abs (f)\n",
    "print ('error relativo del polinomio con grado 0:', e0)\n",
    "\n",
    "e1=abs(p1-f)/abs (f)\n",
    "print ('error relativo del polinomio con grado 1:', e1)\n",
    "\n",
    "e2=abs(p2-f)/abs (f)\n",
    "print ('error relativo del polinomio con grado 2:', e2)\n",
    "\n",
    "\n",
    "\n"
   ]
  },
  {
   "cell_type": "code",
   "execution_count": null,
   "metadata": {},
   "outputs": [],
   "source": []
  }
 ],
 "metadata": {
  "kernelspec": {
   "display_name": "Python 3",
   "language": "python",
   "name": "python3"
  },
  "language_info": {
   "codemirror_mode": {
    "name": "ipython",
    "version": 3
   },
   "file_extension": ".py",
   "mimetype": "text/x-python",
   "name": "python",
   "nbconvert_exporter": "python",
   "pygments_lexer": "ipython3",
   "version": "3.6.8"
  }
 },
 "nbformat": 4,
 "nbformat_minor": 2
}
