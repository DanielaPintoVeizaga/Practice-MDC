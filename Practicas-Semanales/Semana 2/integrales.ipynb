{
 "cells": [
  {
   "cell_type": "markdown",
   "metadata": {},
   "source": [
    "**EJERCICIO 1**: APROXIMAR EL VALOR DE LA INTEGRAL $\\displaystyle \\int_0^{\\pi}sin(x)dx = 2$ CON REGLAS COMPUESTAS DEL RECTÁNGULO Y TRAPECIO CON UN NÚMERO DE SUBINTERVALOS $n \\in \\{1,10,20,30,40 \\}$ Y HACER GRÁFICA DE LA FORMA ERROR RELATIVO VS $n$ ($n$ EN EL EJE HORIZONTAL)"
   ]
  },
  {
   "cell_type": "code",
   "execution_count": 1,
   "metadata": {},
   "outputs": [],
   "source": [
    "import numpy as np\n",
    "import matplotlib.pyplot as plt\n",
    "import math as m\n",
    "import sympy as sp\n",
    "from numpy import sin, arange, cos, array,linspace, sum\n",
    "from math import pi, e\n",
    "import scipy.integrate as integrate"
   ]
  },
  {
   "cell_type": "markdown",
   "metadata": {},
   "source": [
    "**1.** APROXIMACIÓN PUNTO MEDIO/PUNTO MEDIO COMPUESTO"
   ]
  },
  {
   "cell_type": "code",
   "execution_count": 2,
   "metadata": {},
   "outputs": [
    {
     "name": "stdout",
     "output_type": "stream",
     "text": [
      "2.0\n"
     ]
    }
   ],
   "source": [
    "#calculando la integral analítica:\n",
    "a=0.0\n",
    "b=pi\n",
    "f= lambda x: sin(x)\n",
    "I = integrate.quad(f,a,b)\n",
    "\n",
    "print (I[0])\n"
   ]
  },
  {
   "cell_type": "code",
   "execution_count": 3,
   "metadata": {},
   "outputs": [],
   "source": [
    "#formula punto medio:\n",
    "\n",
    "a=0.0\n",
    "b=m.pi\n",
    "f= lambda x: sin(x)\n",
    "def midpoint_1(a,b,f):\n",
    "    x=(a+b)/2\n",
    "    return f(x)*(b-a)"
   ]
  },
  {
   "cell_type": "code",
   "execution_count": 4,
   "metadata": {},
   "outputs": [
    {
     "data": {
      "text/plain": [
       "3.141592653589793"
      ]
     },
     "execution_count": 4,
     "metadata": {},
     "output_type": "execute_result"
    }
   ],
   "source": [
    "midpoint_1(a,b,f)"
   ]
  },
  {
   "cell_type": "code",
   "execution_count": 5,
   "metadata": {},
   "outputs": [
    {
     "name": "stdout",
     "output_type": "stream",
     "text": [
      "integral_midpoint_compuesto= [1.95910307 1.98973332 1.99543354 1.99743068]\n",
      "[1.95910307 1.98973332 1.99543354 1.99743068]\n"
     ]
    }
   ],
   "source": [
    "#formula punto medio compuesto\n",
    "\n",
    "def midpoint(n,a,b,f):\n",
    "    h = (b-a)/n\n",
    "    x = np.zeros(n)\n",
    "    fx= np.zeros(n)\n",
    "    x[0]=a+(h/2)\n",
    "    fx[0]=f(x[0])\n",
    "    for i in range(0,n-2):\n",
    "        x[i+1]=x[i]+h \n",
    "        fx[i+1]=f(x[i+1])\n",
    "    return (np.sum(fx))*h\n",
    "n1=100\n",
    "a1=0\n",
    "b1=pi\n",
    "f1 = lambda x: sin(x)\n",
    "n=4\n",
    "midpoint_compuesto=np.zeros(n+1)\n",
    "for j in range (1,n+1):\n",
    "    midpoint_compuesto[j] = midpoint(j*10, a1, b1, f1)  \n",
    "print('integral_midpoint_compuesto=', midpoint_compuesto[1:n+1])\n",
    "IMC = midpoint_compuesto[1:n+1]\n",
    "print (IMC)\n",
    "        "
   ]
  },
  {
   "cell_type": "code",
   "execution_count": 7,
   "metadata": {},
   "outputs": [
    {
     "name": "stdout",
     "output_type": "stream",
     "text": [
      "[-2. -2. -2. -2.]\n",
      "[0.02044846 0.00513334 0.00228323 0.00128466]\n"
     ]
    }
   ],
   "source": [
    "IA=(-1)*I[0]*np.ones(4)\n",
    "print (IA)\n",
    "intervalos = [10, 20, 30, 40]\n",
    "intervalos=  array(intervalos)\n",
    "er_m= abs(IMC+IA)/abs(IA)\n",
    "print (er_m) #vector de errores cuando n=[10, 20, 30, 40]"
   ]
  },
  {
   "cell_type": "code",
   "execution_count": 8,
   "metadata": {},
   "outputs": [
    {
     "data": {
      "image/png": "[encoded data removed]",
      "text/plain": [
       "<Figure size 432x288 with 1 Axes>"
      ]
     },
     "metadata": {
      "needs_background": "light"
     },
     "output_type": "display_data"
    }
   ],
   "source": [
    "plt.plot(intervalos,er_m, 's-', color='#4169E1')\n",
    "\n",
    "plt.title ('Aproximación de integral por R. Midpoint Compuesto', color= '#4169E1') #adding a title\n",
    "plt.xlabel('n') #add label to x-axis\n",
    "plt.ylabel('error relativo') #add label to x-axis\n",
    "plt.grid(True) #adding coordinate grid\n",
    "plt.show() #showing plot on screen"
   ]
  },
  {
   "cell_type": "code",
   "execution_count": null,
   "metadata": {},
   "outputs": [],
   "source": []
  },
  {
   "cell_type": "markdown",
   "metadata": {},
   "source": [
    "**2.** APROXIMACIÓN POR REGLA DEL TRAPECIO/TRAPECIO COMPUESTO"
   ]
  },
  {
   "cell_type": "code",
   "execution_count": 9,
   "metadata": {},
   "outputs": [],
   "source": [
    "from math import sin, pi\n",
    "f = lambda x: sin(x)\n",
    "a=0\n",
    "b=pi\n"
   ]
  },
  {
   "cell_type": "code",
   "execution_count": 10,
   "metadata": {},
   "outputs": [
    {
     "name": "stdout",
     "output_type": "stream",
     "text": [
      "integral_trapecio_1= 1.9236706937217898e-16\n"
     ]
    }
   ],
   "source": [
    "#When n=1\n",
    "n=1\n",
    "h=(b-a)/n\n",
    "S= 0.5*(f(a)+f(b))\n",
    "for i in range(1, n):\n",
    "    S += f(a+ i*h)\n",
    "trapecio_1 = h * S\n",
    "print('integral_trapecio_1=', trapecio_1)"
   ]
  },
  {
   "cell_type": "code",
   "execution_count": 11,
   "metadata": {},
   "outputs": [
    {
     "name": "stdout",
     "output_type": "stream",
     "text": [
      "integral_trapecio= [1.88644299 1.9713133  1.98722577 1.99280965]\n"
     ]
    }
   ],
   "source": [
    "\n",
    "#when n=\n",
    "def trapecio_compuesto(n,a,b,f):\n",
    "    h = (b-a)/n\n",
    "    x = np.zeros(n)\n",
    "    fx= np.zeros(n)\n",
    "    x[0]=a\n",
    "    fx[0]=f(x[0])\n",
    "    for i in range(0,n-2):\n",
    "        x[i+1]=x[i]+h \n",
    "        fx[i+1]=f(x[i+1])\n",
    "    return (2*np.sum(fx)-fx[0]-fx[n-1])*(h/2)\n",
    "n1=100\n",
    "a1=0\n",
    "b1=pi\n",
    "f1 = lambda x: sin(x)\n",
    "n=4\n",
    "integral_trapecio_compuesto_vector=np.zeros(n+1)\n",
    "for j in range (1,n+1):\n",
    "    integral_trapecio_compuesto_vector[j] = trapecio_compuesto(j*10, a1, b1, f1)  \n",
    "print('integral_trapecio=', integral_trapecio_compuesto_vector[1:n+1])\n",
    "\n",
    "ITC= integral_trapecio_compuesto_vector[1:n+1]\n"
   ]
  },
  {
   "cell_type": "code",
   "execution_count": 12,
   "metadata": {},
   "outputs": [
    {
     "name": "stdout",
     "output_type": "stream",
     "text": [
      "[-2. -2. -2. -2.]\n",
      "[0.05677851 0.01434335 0.00638712 0.00359518]\n"
     ]
    }
   ],
   "source": [
    "#Calculando el error relativo\n",
    "IA=(-1)*I[0]*np.ones(4)\n",
    "print (IA)\n",
    "intervalos = [10, 20, 30, 40]\n",
    "intervalos=  array(intervalos)\n",
    "er_t= abs(ITC+IA)/abs(IA)\n",
    "print (er_t) #vector de errores cuando n=[10, 20, 30, 40]\n"
   ]
  },
  {
   "cell_type": "code",
   "execution_count": 13,
   "metadata": {},
   "outputs": [
    {
     "data": {
      "image/png": "[encoded data removed]",
      "text/plain": [
       "<Figure size 432x288 with 1 Axes>"
      ]
     },
     "metadata": {
      "needs_background": "light"
     },
     "output_type": "display_data"
    }
   ],
   "source": [
    "plt.plot(intervalos, er_t , 's-', color='#4169E1')\n",
    "plt.title ('Aproximación de integral por R. del trapecio compuesto: error relativo vs n', color= '#4169E1') #adding a title\n",
    "plt.xlabel('n') #add label to x-axis\n",
    "plt.ylabel('error relativo') #add label to x-axis\n",
    "plt.grid(True) #adding coordinate grid\n",
    "plt.show() #showing plot on screen\n"
   ]
  },
  {
   "cell_type": "markdown",
   "metadata": {},
   "source": [
    "**EJERCICIO 2:** APROXIMAR LA INTEGRAL DE:\n",
    "$$\\displaystyle \\int_0^1e^{-\\frac{t^2}{2}}dt$$\n",
    "\n",
    "CON CUADRATURA GAUSS-LEGENDRE CON $n \\in \\{0,1,2,3,4\\}$. REALIZAR LA GRÁFICA DE LA FORMA ERROR RELATIVO VS $n$. **VALOR A APROXIMAR: $.855624391892149$**\n"
   ]
  },
  {
   "cell_type": "markdown",
   "metadata": {},
   "source": [
    "_*Cuadratura de Gauss-Legendre:*_"
   ]
  },
  {
   "cell_type": "markdown",
   "metadata": {},
   "source": [
    "$$\\int\\limits_a^b f(x)\\,dx \\approx \\frac{b-a}{2} \\sum\\limits_{i=1}^{n} { A_i f(x_i)} $$"
   ]
  },
  {
   "cell_type": "markdown",
   "metadata": {},
   "source": [
    "*donde las abcisas $x_i$ son computadas a partir de:* $x = \\frac{b+a}{2} + \\frac{b-a}{2} \\xi $"
   ]
  },
  {
   "cell_type": "markdown",
   "metadata": {},
   "source": [
    "Y para una integral en $[a,b]$ se tiene:\n",
    "\n",
    "$$\\displaystyle \\int_{a}^{b}f(t)dt \\approx \\frac{(b-a)}{2} \\displaystyle \\sum_{i=0}^nw_if \\left (\\frac{1}{2}[(b-a)x_i+a+b] \\right )$$\n",
    "con los pesos definidos para el intervalo $[-1,1]$"
   ]
  },
  {
   "cell_type": "code",
   "execution_count": 14,
   "metadata": {},
   "outputs": [],
   "source": [
    "valor_integral= 0.855624391892149"
   ]
  },
  {
   "cell_type": "code",
   "execution_count": 15,
   "metadata": {},
   "outputs": [],
   "source": [
    "a = 0.0; b = 1\n",
    "f = lambda x: e**(-((x**2))/2)"
   ]
  },
  {
   "cell_type": "code",
   "execution_count": 16,
   "metadata": {},
   "outputs": [],
   "source": [
    "#Construyendo una matriz con los valores de Xi:\n",
    "\n",
    "X = [[0,0,0,0,0,0],\n",
    "    [-0.577350, 0.577350, 0, 0, 0, 0], \n",
    "    [-0.774597, 0.00000, 0.774597, 0, 0, 0], \n",
    "    [-0.861136,-0.339981, 0.339981, 0.861136, 0, 0], \n",
    "    [-0.906180,-0.538469, 0.000000, 0.538469, 0.906180, 0],\n",
    "    [-0.932470, -0.661209, -0.238619, 0.238619, 0.661209, 0.932470]]\n",
    "\n",
    "X = array(X)\n",
    "\n",
    "#Construyendo una matriz con los valores de Ai:\n",
    "A1 = [[2,0,0,0,0,0],\n",
    "     [1.000000, 1.000000, 0, 0, 0, 0],\n",
    "     [0.555556, 0.888889, 0.555556, 0, 0, 0],\n",
    "     [0.347855, 0.652145, 0.652145, 0.347855, 0, 0],\n",
    "     [ 0.236927, 0.478629, 0.568889, 0.478629, 0.236927, 0],\n",
    "     [0.171324, 0.360762, 0.467914, 0.467914, 0.360762, 0.171324]]\n",
    "\n",
    "A1=array(A1)\n"
   ]
  },
  {
   "cell_type": "code",
   "execution_count": 17,
   "metadata": {},
   "outputs": [
    {
     "name": "stdout",
     "output_type": "stream",
     "text": [
      "Aproximación:  [0.8824969  0.85531459 0.85562679 0.85562439 0.85562483 0.85562442]\n"
     ]
    }
   ],
   "source": [
    "#Definiendo la función gauss legendre:\n",
    "def gauss_legendre(n,f, a, b, X, A1):\n",
    "    x = np.zeros(6)\n",
    "    for j in range(6):\n",
    "        x[j] = f(((b+a)/2) + ((b-a)/2) * X[n][j])\n",
    "    return np.dot(A1[n],x)\n",
    "\n",
    "legendre_vector = np.zeros(6) \n",
    "for n in range(6):\n",
    "   legendre_vector[n] = ((b-a)/2)*gauss_legendre(n,f, a, b, X, A1)\n",
    "print(\"Aproximación: \", legendre_vector)\n"
   ]
  },
  {
   "cell_type": "code",
   "execution_count": 18,
   "metadata": {},
   "outputs": [
    {
     "name": "stdout",
     "output_type": "stream",
     "text": [
      "[-0.85562439 -0.85562439 -0.85562439 -0.85562439 -0.85562439 -0.85562439]\n",
      "[3.14069011e-02 3.62080873e-04 2.80444306e-06 2.22294231e-09\n",
      " 5.06873946e-07 2.90474851e-08]\n"
     ]
    }
   ],
   "source": [
    "#Calculando el error relativo\n",
    "\n",
    "IA=(-1)*valor_integral*np.ones(6)\n",
    "print (IA)\n",
    "\n",
    "er= abs(legendre_vector+IA)/abs(IA)\n",
    "print (er) #vector de errores cuando n=[0, 1, 2, 3, 4, 5]\n"
   ]
  },
  {
   "cell_type": "code",
   "execution_count": 19,
   "metadata": {},
   "outputs": [],
   "source": [
    "subintervalos=[0, 1, 2, 3, 4, 5]\n",
    "subintervalos=array(subintervalos)"
   ]
  },
  {
   "cell_type": "code",
   "execution_count": 20,
   "metadata": {},
   "outputs": [
    {
     "data": {
      "image/png": "[encoded data removed]",
      "text/plain": [
       "<Figure size 432x288 with 1 Axes>"
      ]
     },
     "metadata": {
      "needs_background": "light"
     },
     "output_type": "display_data"
    }
   ],
   "source": [
    "plt.plot(subintervalos,er, 's-', color='#4169E1')\n",
    "\n",
    "plt.title ('Aproximación de integral por Gauss-Legendre', color= '#4169E1') #adding a title\n",
    "plt.xlabel('n') #add label to x-axis\n",
    "plt.ylabel('error relativo') #add label to x-axis\n",
    "plt.grid(True) #adding coordinate grid\n",
    "plt.show() #showing plot on screen"
   ]
  },
  {
   "cell_type": "markdown",
   "metadata": {},
   "source": [
    "**EJERCICIO 3:** APROXIMAR LAS INTEGRALES:"
   ]
  },
  {
   "cell_type": "markdown",
   "metadata": {},
   "source": [
    "$$(2\\pi\\sigma^2)^{-\\frac{1}{2}}\\displaystyle \\int_{-\\infty}^\\infty te^{\\frac{-(t-\\mu)^2}{2\\sigma^2}}dt$$"
   ]
  },
  {
   "cell_type": "markdown",
   "metadata": {},
   "source": [
    "\n",
    "\n",
    "DONDE: $\\sigma=0.25, \\mu=0.15$ CUYOS VALOR ES: $0.15$ CON CUADRATURA DE GAUSS-HERMITE. PARA LO ANTERIOR, REALIZAR CAMBIO DE VARIABLE $x=\\frac{t-\\mu}{\\sqrt{2\\sigma^2}}, dt=\\sqrt{2\\sigma^2}dx$.\n"
   ]
  },
  {
   "cell_type": "markdown",
   "metadata": {},
   "source": [
    "Despejando se obtiene:  $$t = x \\sqrt{2\\sigma^{2}} + u$$"
   ]
  },
  {
   "cell_type": "markdown",
   "metadata": {},
   "source": [
    "$$t^2 = (x \\sqrt{2\\sigma^{2}} + u)^{2}$$"
   ]
  },
  {
   "cell_type": "markdown",
   "metadata": {},
   "source": [
    "$$dt = \\sqrt{2\\sigma^{2}} dx$$"
   ]
  },
  {
   "cell_type": "markdown",
   "metadata": {},
   "source": [
    "*Cuadratura Gauss-Hermite*"
   ]
  },
  {
   "cell_type": "markdown",
   "metadata": {},
   "source": [
    "$$\\int\\limits_{-\\infty}^\\infty e^{-x^{2}} f(x)dx \\approx \\sum\\limits_{x=0}^{n} Ai f(xi)$$"
   ]
  },
  {
   "cell_type": "markdown",
   "metadata": {},
   "source": [
    "Desarrollando la primera integral a fin que quede en la forma determinada para aplicar la Cuadratura Gauss-Hermite:\n",
    "$${1 \\over \\pi} \\int_{-\\infty}^\\infty (x \\sqrt{2\\sigma^{2}} + u) e^{-x^2}dx$$ \n",
    "\n",
    "Donde:\n",
    "$$f(x)= (x \\sqrt{2\\sigma^{2}} + u)$$\n",
    "    "
   ]
  },
  {
   "cell_type": "code",
   "execution_count": 21,
   "metadata": {},
   "outputs": [],
   "source": [
    "a = 0.353553391; b = 0.15\n",
    "f = lambda x: a*x+b\n",
    "C=0.564189584"
   ]
  },
  {
   "cell_type": "code",
   "execution_count": 22,
   "metadata": {},
   "outputs": [],
   "source": [
    "#Construyendo una matriz con los valores de Xi:\n",
    "\n",
    "X = [[0.707107, -0.707107, 0, 0, 0, 0], \n",
    "    [0, 1.224745, -1.224745, 0, 0, 0], \n",
    "    [0.524648, - 0.524648, 1.65068, -1.65068, 0, 0], \n",
    "    [0, 0.958572, -0.958572, 2.020183, -2.020183, 0],\n",
    "    [0.436077, -0.436077, 1.335849, -1.335849, 2.350605, -2.350605]]\n",
    "\n",
    "X=array(X)\n",
    "\n",
    "#Construyendo una matriz con los valores de Ai:\n",
    "A1 = [[0.886227, 0.886227, 0, 0, 0, 0],\n",
    "     [1.181636, 0.295409, 0.295409, 0, 0, 0],\n",
    "     [0.804914, 0.804914, 0.0813128, 0.0813128, 0, 0],\n",
    "     [0.945308, 0.393619, 0.393619, 0.0199532, 0.0199532, 0],\n",
    "     [0.724629, 0.724629, 0.157067, 0.157067, 0.00453001, 0.00453001]]\n",
    "\n",
    "A1=array(A1)\n"
   ]
  },
  {
   "cell_type": "code",
   "execution_count": 23,
   "metadata": {},
   "outputs": [
    {
     "name": "stdout",
     "output_type": "stream",
     "text": [
      "[ 0.40000008 -0.10000008  0.15        0.15        0.15        0.15      ]\n",
      "[ 0.15        0.58301275 -0.28301275  0.15        0.15        0.15      ]\n",
      "[ 0.33549108 -0.03549108  0.73360351 -0.43360351  0.15        0.15      ]\n",
      "[ 0.15        0.48890638 -0.18890638  0.86424255 -0.56424255  0.15      ]\n",
      "[ 0.3041765  -0.0041765   0.62229394 -0.32229394  0.98106437 -0.68106437]\n",
      "Aproximación de la primera integral:  [0.15000001 0.15000001 0.14999998 0.14999988 0.14999985]\n"
     ]
    }
   ],
   "source": [
    "#Definiendo la funciòn hermite:\n",
    "def hermite(n,f, a, b, X, A1):\n",
    "    fx = np.zeros(6)\n",
    "    for j in range(6):\n",
    "        fx[j] = f(X[n][j])\n",
    "    print (fx)    \n",
    "    return np.dot(A1[n],fx)\n",
    "hermite_vector = np.zeros(5) \n",
    "for n in range(5):\n",
    "   hermite_vector[n] = C*hermite(n,f, a, b, X, A1)\n",
    "print(\"Aproximación de la primera integral: \", hermite_vector)"
   ]
  },
  {
   "cell_type": "markdown",
   "metadata": {},
   "source": [
    "$$(2\\pi\\sigma^2)^{-\\frac{1}{2}}\\displaystyle \\int_{-\\infty}^\\infty t^2e^{\\frac{-(t-\\mu)^2}{2\\sigma^2}}dt$$\n",
    "\n",
    "DONDE: $\\sigma=0.25, \\mu=0.15$ CUYO VALOR ES $0.085$ CON CUADRATURA DE GAUSS-HERMITE. PARA LO ANTERIOR, REALIZAR CAMBIO DE VARIABLE $x=\\frac{t-\\mu}{\\sqrt{2\\sigma^2}}, dt=\\sqrt{2\\sigma^2}dx$.\n"
   ]
  },
  {
   "cell_type": "code",
   "execution_count": 24,
   "metadata": {},
   "outputs": [
    {
     "name": "stdout",
     "output_type": "stream",
     "text": [
      "[0.16000006 0.01000002 0.0225     0.0225     0.0225     0.0225    ]\n",
      "[0.0225     0.33990386 0.08009622 0.0225     0.0225     0.0225    ]\n",
      "[0.11255426 0.00125962 0.53817411 0.18801201 0.0225     0.0225    ]\n",
      "[0.0225     0.23902945 0.03568562 0.74691519 0.31836966 0.0225    ]\n",
      "[9.25233444e-02 1.74431697e-05 3.87249753e-01 1.03873386e-01\n",
      " 9.62487295e-01 4.63848674e-01]\n",
      "Aproximación de la segunda integral:  [0.08500005 0.08500002 0.08500002 0.08499987 0.08499984]\n"
     ]
    }
   ],
   "source": [
    "#Definiendo la función hermite:\n",
    "f = lambda x: (a*x+b)**2\n",
    "hermite_vector = np.zeros(5) \n",
    "for n in range(5):\n",
    "   hermite_vector[n] = C*hermite(n,f, a, b, X, A1)\n",
    "print(\"Aproximación de la segunda integral: \", hermite_vector)\n",
    "    "
   ]
  },
  {
   "cell_type": "code",
   "execution_count": null,
   "metadata": {},
   "outputs": [],
   "source": []
  },
  {
   "cell_type": "code",
   "execution_count": null,
   "metadata": {},
   "outputs": [],
   "source": []
  }
 ],
 "metadata": {
  "kernelspec": {
   "display_name": "Python 3",
   "language": "python",
   "name": "python3"
  },
  "language_info": {
   "codemirror_mode": {
    "name": "ipython",
    "version": 3
   },
   "file_extension": ".py",
   "mimetype": "text/x-python",
   "name": "python",
   "nbconvert_exporter": "python",
   "pygments_lexer": "ipython3",
   "version": "3.6.8"
  }
 },
 "nbformat": 4,
 "nbformat_minor": 2
}
