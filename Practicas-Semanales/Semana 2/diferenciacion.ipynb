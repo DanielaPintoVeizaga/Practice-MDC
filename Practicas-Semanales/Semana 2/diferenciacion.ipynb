{
 "cells": [
  {
   "cell_type": "markdown",
   "metadata": {},
   "source": [
    "**Aproximaciones de Taylor: Errores Relativos**"
   ]
  },
  {
   "cell_type": "code",
   "execution_count": 52,
   "metadata": {},
   "outputs": [],
   "source": [
    "#importando paquetería\n",
    "\n",
    "import derivada\n",
    "import numpy as np\n",
    "import matplotlib.pyplot as plt\n",
    "import math"
   ]
  },
  {
   "cell_type": "code",
   "execution_count": 26,
   "metadata": {},
   "outputs": [],
   "source": [
    "#definiciones de funciones y constantes\n",
    "\n",
    "f = lambda x: np.exp(-x)\n",
    "x = 1\n",
    "\n",
    "#definiendo el vector de h con función numpy\n",
    "\n",
    "aux =np.arange(-16,0,1)\n",
    "h = np.power(10.0, aux) \n",
    "\n",
    "#definiendo la funcion objetivo de la segunda derivada (p*)\n",
    "objetivo = math.exp (-x)\n",
    "\n",
    "#definiendo la función objetivo de la primera derivada (p*)\n",
    "objetivo_df = -math.exp (-x)"
   ]
  },
  {
   "cell_type": "code",
   "execution_count": 57,
   "metadata": {},
   "outputs": [
    {
     "data": {
      "text/plain": [
       "array([1.e-16, 1.e-15, 1.e-14, 1.e-13, 1.e-12, 1.e-11, 1.e-10, 1.e-09,\n",
       "       1.e-08, 1.e-07, 1.e-06, 1.e-05, 1.e-04, 1.e-03, 1.e-02, 1.e-01])"
      ]
     },
     "execution_count": 57,
     "metadata": {},
     "output_type": "execute_result"
    }
   ],
   "source": [
    "#calling el vector de h\n",
    "\n",
    "h"
   ]
  },
  {
   "cell_type": "code",
   "execution_count": 55,
   "metadata": {},
   "outputs": [
    {
     "data": {
      "text/plain": [
       "0.36787944117144233"
      ]
     },
     "execution_count": 55,
     "metadata": {},
     "output_type": "execute_result"
    }
   ],
   "source": [
    "objetivo"
   ]
  },
  {
   "cell_type": "code",
   "execution_count": 45,
   "metadata": {},
   "outputs": [],
   "source": [
    "#definiendo la función del error relativo como aquel abs(p-p*)/abs(p*)\n",
    "def error_relativo (p,p_ast):\n",
    "    return np.fabs (p-p_ast)/math.fabs(p_ast)"
   ]
  },
  {
   "cell_type": "code",
   "execution_count": 33,
   "metadata": {},
   "outputs": [],
   "source": [
    "df_aprox = derivada.aprox_derivada_hacia_delante (f,x,h)"
   ]
  },
  {
   "cell_type": "code",
   "execution_count": 53,
   "metadata": {},
   "outputs": [
    {
     "data": {
      "text/plain": [
       "array([ 0.        , -0.44408921, -0.3663736 , -0.36748382, -0.36792791,\n",
       "       -0.36787795, -0.36787962, -0.3678795 , -0.36787944, -0.36787942,\n",
       "       -0.36787926, -0.3678776 , -0.36786105, -0.36769556, -0.36604616,\n",
       "       -0.35008357])"
      ]
     },
     "execution_count": 53,
     "metadata": {},
     "output_type": "execute_result"
    }
   ],
   "source": [
    "df_aprox"
   ]
  },
  {
   "cell_type": "code",
   "execution_count": 34,
   "metadata": {},
   "outputs": [],
   "source": [
    "ddf_aprox = derivada.aprox_2a_derivada_hacia_delante (f,x,h)"
   ]
  },
  {
   "cell_type": "code",
   "execution_count": 46,
   "metadata": {},
   "outputs": [],
   "source": [
    "err_df = error_relativo(df_aprox, objetivo_df)"
   ]
  },
  {
   "cell_type": "code",
   "execution_count": 47,
   "metadata": {},
   "outputs": [
    {
     "data": {
      "text/plain": [
       "array([1.00000000e+00, 2.07159629e-01, 4.09330579e-03, 1.07540671e-03,\n",
       "       1.31752917e-04, 4.05254169e-06, 4.74306916e-07, 1.72517009e-07,\n",
       "       8.55693534e-09, 4.92985728e-08, 5.00021799e-07, 4.99998093e-06,\n",
       "       4.99983334e-05, 4.99833375e-04, 4.98337492e-03, 4.83741804e-02])"
      ]
     },
     "execution_count": 47,
     "metadata": {},
     "output_type": "execute_result"
    }
   ],
   "source": [
    "#printing the array of errores relativos de la primera derivada\n",
    "err_df "
   ]
  },
  {
   "cell_type": "code",
   "execution_count": 36,
   "metadata": {},
   "outputs": [],
   "source": [
    "err_ddf = error_relativo(ddf_aprox, objetivo)"
   ]
  },
  {
   "cell_type": "code",
   "execution_count": 48,
   "metadata": {},
   "outputs": [
    {
     "data": {
      "text/plain": [
       "array([3.01789907e+16, 4.52684861e+14, 1.50894954e+12, 3.01789907e+10,\n",
       "       3.01789906e+08, 1.50895054e+06, 1.00000000e+00, 3.00789907e+02,\n",
       "       2.50894954e+00, 2.60856849e-02, 1.70036991e-04, 8.57939030e-06,\n",
       "       9.99915532e-05, 9.99417070e-04, 9.94191581e-03, 9.44082994e-02])"
      ]
     },
     "execution_count": 48,
     "metadata": {},
     "output_type": "execute_result"
    }
   ],
   "source": [
    "#printing the array of errores relativos de la segunda derivada\n",
    "err_ddf "
   ]
  },
  {
   "cell_type": "code",
   "execution_count": 38,
   "metadata": {},
   "outputs": [
    {
     "data": {
      "text/plain": [
       "[<matplotlib.lines.Line2D at 0x7f40386b2470>]"
      ]
     },
     "execution_count": 38,
     "metadata": {},
     "output_type": "execute_result"
    },
    {
     "data": {
      "image/png": "[encoded data removed]",
      "text/plain": [
       "<Figure size 432x288 with 1 Axes>"
      ]
     },
     "metadata": {
      "needs_background": "light"
     },
     "output_type": "display_data"
    }
   ],
   "source": [
    "plt.plot(np.log(h),np.log(err_df))"
   ]
  },
  {
   "cell_type": "code",
   "execution_count": 44,
   "metadata": {},
   "outputs": [],
   "source": [
    "plt.show()"
   ]
  },
  {
   "cell_type": "code",
   "execution_count": 43,
   "metadata": {},
   "outputs": [
    {
     "data": {
      "text/plain": [
       "array([ 0.        , -0.44408921, -0.3663736 , -0.36748382, -0.36792791,\n",
       "       -0.36787795, -0.36787962, -0.3678795 , -0.36787944, -0.36787942,\n",
       "       -0.36787926, -0.3678776 , -0.36786105, -0.36769556, -0.36604616,\n",
       "       -0.35008357])"
      ]
     },
     "execution_count": 43,
     "metadata": {},
     "output_type": "execute_result"
    }
   ],
   "source": [
    "df_aprox"
   ]
  },
  {
   "cell_type": "code",
   "execution_count": 39,
   "metadata": {},
   "outputs": [
    {
     "data": {
      "text/plain": [
       "[<matplotlib.lines.Line2D at 0x7f403864eba8>]"
      ]
     },
     "execution_count": 39,
     "metadata": {},
     "output_type": "execute_result"
    },
    {
     "data": {
      "image/png": "[encoded data removed]",
      "text/plain": [
       "<Figure size 432x288 with 1 Axes>"
      ]
     },
     "metadata": {
      "needs_background": "light"
     },
     "output_type": "display_data"
    }
   ],
   "source": [
    "plt.plot(np.log(h),np.log(err_ddf))"
   ]
  },
  {
   "cell_type": "code",
   "execution_count": 40,
   "metadata": {},
   "outputs": [
    {
     "data": {
      "text/plain": [
       "1e-08"
      ]
     },
     "execution_count": 40,
     "metadata": {},
     "output_type": "execute_result"
    }
   ],
   "source": [
    "h[err_df.argmin()]"
   ]
  },
  {
   "cell_type": "code",
   "execution_count": 41,
   "metadata": {},
   "outputs": [
    {
     "data": {
      "text/plain": [
       "1e-05"
      ]
     },
     "execution_count": 41,
     "metadata": {},
     "output_type": "execute_result"
    }
   ],
   "source": [
    "h[err_ddf.argmin()]"
   ]
  },
  {
   "cell_type": "code",
   "execution_count": null,
   "metadata": {},
   "outputs": [],
   "source": []
  }
 ],
 "metadata": {
  "kernelspec": {
   "display_name": "Python 3",
   "language": "python",
   "name": "python3"
  },
  "language_info": {
   "codemirror_mode": {
    "name": "ipython",
    "version": 3
   },
   "file_extension": ".py",
   "mimetype": "text/x-python",
   "name": "python",
   "nbconvert_exporter": "python",
   "pygments_lexer": "ipython3",
   "version": "3.6.8"
  }
 },
 "nbformat": 4,
 "nbformat_minor": 2
}
