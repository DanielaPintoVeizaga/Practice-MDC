{
 "cells": [
  {
   "cell_type": "markdown",
   "metadata": {},
   "source": [
    "# Modelos Logarítimicos: ajuste por mínimos cuadrados"
   ]
  },
  {
   "cell_type": "markdown",
   "metadata": {},
   "source": [
    "## Preparando la información"
   ]
  },
  {
   "cell_type": "code",
   "execution_count": 1,
   "metadata": {},
   "outputs": [],
   "source": [
    "#Importando paquetería necesaria\n",
    "\n",
    "import numpy as np\n",
    "import matplotlib.pyplot as plt \n",
    "import pprint\n",
    "import seaborn as sns\n",
    "from numpy import log\n",
    "sns.set()\n",
    "\n",
    "\n"
   ]
  },
  {
   "cell_type": "code",
   "execution_count": 2,
   "metadata": {},
   "outputs": [],
   "source": [
    "#Cargado los datos\n",
    "\n",
    "datos = np.loadtxt('datos_para_tarea_minimos_cuadrados.txt', skiprows=1)\n"
   ]
  },
  {
   "cell_type": "code",
   "execution_count": 3,
   "metadata": {},
   "outputs": [],
   "source": [
    "x = datos[:,0]\n",
    "y = datos[:,1]"
   ]
  },
  {
   "cell_type": "code",
   "execution_count": 4,
   "metadata": {},
   "outputs": [
    {
     "data": {
      "text/plain": [
       "array([0.017, 0.087, 0.174, 1.11 , 1.74 , 4.09 , 5.45 , 5.96 , 0.025,\n",
       "       0.111, 0.211, 0.999, 3.02 , 4.28 , 4.58 , 4.68 , 0.02 , 0.085,\n",
       "       0.171, 1.29 , 3.04 , 4.29 , 5.3  , 0.02 , 0.119, 0.21 , 1.32 ,\n",
       "       3.34 , 5.48 , 0.025, 0.233, 0.783, 1.35 , 1.69 , 2.75 , 4.83 ,\n",
       "       5.53 ])"
      ]
     },
     "execution_count": 4,
     "metadata": {},
     "output_type": "execute_result"
    }
   ],
   "source": [
    "x"
   ]
  },
  {
   "cell_type": "code",
   "execution_count": 5,
   "metadata": {},
   "outputs": [
    {
     "data": {
      "text/plain": [
       "array([0.154, 0.296, 0.363, 0.531, 2.23 , 3.58 , 3.52 , 2.4  , 0.23 ,\n",
       "       0.357, 0.366, 0.771, 2.01 , 3.28 , 2.96 , 5.1  , 0.181, 0.26 ,\n",
       "       0.334, 0.87 , 3.59 , 3.4  , 3.88 , 0.18 , 0.299, 0.428, 1.15 ,\n",
       "       2.83 , 4.15 , 0.234, 0.537, 1.47 , 2.48 , 1.44 , 1.84 , 4.66 ,\n",
       "       6.94 ])"
      ]
     },
     "execution_count": 5,
     "metadata": {},
     "output_type": "execute_result"
    }
   ],
   "source": [
    "y"
   ]
  },
  {
   "cell_type": "code",
   "execution_count": 6,
   "metadata": {},
   "outputs": [
    {
     "data": {
      "text/plain": [
       "Text(0.5, 1.0, 'Datos')"
      ]
     },
     "execution_count": 6,
     "metadata": {},
     "output_type": "execute_result"
    },
    {
     "data": {
      "image/png": "[encoded data removed]",
      "text/plain": [
       "<Figure size 432x288 with 1 Axes>"
      ]
     },
     "metadata": {
      "needs_background": "light"
     },
     "output_type": "display_data"
    }
   ],
   "source": [
    "#Graficando los datos\n",
    "\n",
    "plt.plot(x, y, 'o')\n",
    "plt.legend(['datos'], loc='best')\n",
    "plt.title('Datos')\n"
   ]
  },
  {
   "cell_type": "markdown",
   "metadata": {},
   "source": [
    "## Modelo 1"
   ]
  },
  {
   "cell_type": "markdown",
   "metadata": {},
   "source": [
    "### $$log(y) = log(b) + alog(x)$$"
   ]
  },
  {
   "cell_type": "code",
   "execution_count": 7,
   "metadata": {},
   "outputs": [],
   "source": [
    "phi_1 = lambda var: np.log(var) #phi puede tomar cualquier valor\n",
    "mpoints_1, = x.shape\n",
    "A_1=np.ones((mpoints_1,2))\n",
    "A_1[:,1] = phi_1(x)\n"
   ]
  },
  {
   "cell_type": "code",
   "execution_count": 8,
   "metadata": {},
   "outputs": [
    {
     "data": {
      "text/plain": [
       "(37,)"
      ]
     },
     "execution_count": 8,
     "metadata": {},
     "output_type": "execute_result"
    }
   ],
   "source": [
    "x.shape"
   ]
  },
  {
   "cell_type": "code",
   "execution_count": 9,
   "metadata": {},
   "outputs": [
    {
     "data": {
      "text/plain": [
       "array([[ 1.00000000e+00, -4.07454193e+00],\n",
       "       [ 1.00000000e+00, -2.44184716e+00],\n",
       "       [ 1.00000000e+00, -1.74869998e+00],\n",
       "       [ 1.00000000e+00,  1.04360015e-01],\n",
       "       [ 1.00000000e+00,  5.53885113e-01],\n",
       "       [ 1.00000000e+00,  1.40854497e+00],\n",
       "       [ 1.00000000e+00,  1.69561561e+00],\n",
       "       [ 1.00000000e+00,  1.78507048e+00],\n",
       "       [ 1.00000000e+00, -3.68887945e+00],\n",
       "       [ 1.00000000e+00, -2.19822508e+00],\n",
       "       [ 1.00000000e+00, -1.55589715e+00],\n",
       "       [ 1.00000000e+00, -1.00050033e-03],\n",
       "       [ 1.00000000e+00,  1.10525683e+00],\n",
       "       [ 1.00000000e+00,  1.45395301e+00],\n",
       "       [ 1.00000000e+00,  1.52169900e+00],\n",
       "       [ 1.00000000e+00,  1.54329811e+00],\n",
       "       [ 1.00000000e+00, -3.91202301e+00],\n",
       "       [ 1.00000000e+00, -2.46510402e+00],\n",
       "       [ 1.00000000e+00, -1.76609172e+00],\n",
       "       [ 1.00000000e+00,  2.54642218e-01],\n",
       "       [ 1.00000000e+00,  1.11185752e+00],\n",
       "       [ 1.00000000e+00,  1.45628673e+00],\n",
       "       [ 1.00000000e+00,  1.66770682e+00],\n",
       "       [ 1.00000000e+00, -3.91202301e+00],\n",
       "       [ 1.00000000e+00, -2.12863179e+00],\n",
       "       [ 1.00000000e+00, -1.56064775e+00],\n",
       "       [ 1.00000000e+00,  2.77631737e-01],\n",
       "       [ 1.00000000e+00,  1.20597081e+00],\n",
       "       [ 1.00000000e+00,  1.70110510e+00],\n",
       "       [ 1.00000000e+00, -3.68887945e+00],\n",
       "       [ 1.00000000e+00, -1.45671683e+00],\n",
       "       [ 1.00000000e+00, -2.44622583e-01],\n",
       "       [ 1.00000000e+00,  3.00104592e-01],\n",
       "       [ 1.00000000e+00,  5.24728529e-01],\n",
       "       [ 1.00000000e+00,  1.01160091e+00],\n",
       "       [ 1.00000000e+00,  1.57484647e+00],\n",
       "       [ 1.00000000e+00,  1.71018782e+00]])"
      ]
     },
     "execution_count": 9,
     "metadata": {},
     "output_type": "execute_result"
    }
   ],
   "source": [
    "A_1"
   ]
  },
  {
   "cell_type": "code",
   "execution_count": 10,
   "metadata": {},
   "outputs": [],
   "source": [
    "z=np.log(y)"
   ]
  },
  {
   "cell_type": "code",
   "execution_count": 11,
   "metadata": {},
   "outputs": [],
   "source": [
    "Q,R = np.linalg.qr(A_1)\n",
    "beta_1 = np.linalg.solve(R,Q.T@z)"
   ]
  },
  {
   "cell_type": "code",
   "execution_count": 12,
   "metadata": {},
   "outputs": [
    {
     "data": {
      "text/plain": [
       "array([0.26464764, 0.5756426 ])"
      ]
     },
     "execution_count": 12,
     "metadata": {},
     "output_type": "execute_result"
    }
   ],
   "source": [
    "beta_1"
   ]
  },
  {
   "cell_type": "code",
   "execution_count": 13,
   "metadata": {},
   "outputs": [],
   "source": [
    "z_ajustadas_1 = A_1@beta_1\n",
    "y_ajustada_1=np.exp(z_ajustadas_1)\n",
    "#obsérvese que la línea anterior es equivalente a realizar:\n",
    "#y_ajustadas_QR = beta[0] + beta[1]*phi_1(x)"
   ]
  },
  {
   "cell_type": "code",
   "execution_count": 14,
   "metadata": {},
   "outputs": [
    {
     "data": {
      "text/plain": [
       "Text(0.5, 1.0, 'Modelo 1')"
      ]
     },
     "execution_count": 14,
     "metadata": {},
     "output_type": "execute_result"
    },
    {
     "data": {
      "image/png": "[encoded data removed]",
      "text/plain": [
       "<Figure size 432x288 with 1 Axes>"
      ]
     },
     "metadata": {
      "needs_background": "light"
     },
     "output_type": "display_data"
    }
   ],
   "source": [
    "plt.plot(x, y, 'o', x, y_ajustada_1, '.')\n",
    "plt.legend(['modelo1','datos'], loc='best')\n",
    "plt.title('Modelo 1')"
   ]
  },
  {
   "cell_type": "markdown",
   "metadata": {},
   "source": [
    "## Modelo 2"
   ]
  },
  {
   "cell_type": "markdown",
   "metadata": {},
   "source": [
    "### $$log(y) = log(b) + alog(x) + c(log(x))^2$$"
   ]
  },
  {
   "cell_type": "code",
   "execution_count": 15,
   "metadata": {},
   "outputs": [
    {
     "name": "stdout",
     "output_type": "stream",
     "text": [
      "[0.04962021 0.70062919 0.06695492]\n"
     ]
    },
    {
     "data": {
      "text/plain": [
       "Text(0.5, 1.0, 'Modelo 2')"
      ]
     },
     "execution_count": 15,
     "metadata": {},
     "output_type": "execute_result"
    },
    {
     "data": {
      "image/png": "[encoded data removed]",
      "text/plain": [
       "<Figure size 432x288 with 1 Axes>"
      ]
     },
     "metadata": {
      "needs_background": "light"
     },
     "output_type": "display_data"
    }
   ],
   "source": [
    "phi_2 = lambda var: np.log(var)\n",
    "phi_2_2 = lambda var: np.log(var)**2\n",
    "mpoints_2, = x.shape\n",
    "A_2=np.ones((mpoints_1,3))\n",
    "A_2[:,1] = phi_2(x)\n",
    "A_2[:,2] = phi_2_2(x)\n",
    "Q_2,R_2 = np.linalg.qr(A_2)\n",
    "beta_2 = np.linalg.solve(R_2,Q_2.T@np.log(y))\n",
    "print(beta_2)\n",
    "z_gorro_2=A_2@beta_2\n",
    "y_gorro_2=np.exp(z_gorro_2)\n",
    "plt.plot(x, y, 'o', x, y_gorro_2, '.')\n",
    "plt.legend(['datos', 'modelo 2'], loc='best')\n",
    "plt.title('Modelo 2')\n"
   ]
  },
  {
   "cell_type": "code",
   "execution_count": 16,
   "metadata": {},
   "outputs": [
    {
     "data": {
      "text/plain": [
       "array([0.18386666, 0.28309221, 0.37877038, 1.13141277, 1.58127155,\n",
       "       3.2198231 , 4.17920448, 4.54325166, 0.1971471 , 0.31130526,\n",
       "       0.4154466 , 1.0501356 , 2.47387822, 3.3529597 , 3.56372236,\n",
       "       3.63413483, 0.18889116, 0.28065304, 0.37571761, 1.26158835,\n",
       "       2.48778195, 3.35997408, 4.07260317, 0.18889116, 0.32033636,\n",
       "       0.41447678, 1.28312429, 2.69644838, 4.20055001, 0.1971471 ,\n",
       "       0.43652127, 0.88890678, 1.30462076, 1.54603827, 2.28620845,\n",
       "       3.73990901, 4.23614477])"
      ]
     },
     "execution_count": 16,
     "metadata": {},
     "output_type": "execute_result"
    }
   ],
   "source": [
    "y_gorro_2"
   ]
  },
  {
   "cell_type": "markdown",
   "metadata": {},
   "source": [
    "## Calculando los ECM de ambos modelos"
   ]
  },
  {
   "cell_type": "code",
   "execution_count": 17,
   "metadata": {},
   "outputs": [],
   "source": [
    "mse1 = (np.square(y - y_ajustada_1)).mean()\n"
   ]
  },
  {
   "cell_type": "code",
   "execution_count": 18,
   "metadata": {},
   "outputs": [],
   "source": [
    "mse2 = (np.square(y - y_gorro_2)).mean()"
   ]
  },
  {
   "cell_type": "code",
   "execution_count": 21,
   "metadata": {},
   "outputs": [
    {
     "data": {
      "text/plain": [
       "0.6838335577106377"
      ]
     },
     "execution_count": 21,
     "metadata": {},
     "output_type": "execute_result"
    }
   ],
   "source": [
    "mse1"
   ]
  },
  {
   "cell_type": "code",
   "execution_count": 22,
   "metadata": {},
   "outputs": [
    {
     "data": {
      "text/plain": [
       "0.5487595633013899"
      ]
     },
     "execution_count": 22,
     "metadata": {},
     "output_type": "execute_result"
    }
   ],
   "source": [
    "mse2"
   ]
  },
  {
   "cell_type": "markdown",
   "metadata": {},
   "source": [
    "#### Parece ser que el modelo 2 tiene mejor ajuste. "
   ]
  }
 ],
 "metadata": {
  "kernelspec": {
   "display_name": "Python 3",
   "language": "python",
   "name": "python3"
  },
  "language_info": {
   "codemirror_mode": {
    "name": "ipython",
    "version": 3
   },
   "file_extension": ".py",
   "mimetype": "text/x-python",
   "name": "python",
   "nbconvert_exporter": "python",
   "pygments_lexer": "ipython3",
   "version": "3.6.8"
  }
 },
 "nbformat": 4,
 "nbformat_minor": 2
}
