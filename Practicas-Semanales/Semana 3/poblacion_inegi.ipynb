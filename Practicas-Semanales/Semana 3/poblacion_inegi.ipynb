{
 "cells": [
  {
   "cell_type": "markdown",
   "metadata": {},
   "source": [
    "# Estimación poblacional en México 1940-2020"
   ]
  },
  {
   "cell_type": "markdown",
   "metadata": {},
   "source": [
    "Consulta la página del INEGI para obtener los datos de la población total de México en los años de 1950 a 2010 (cada 10 años) y ajusta modelos polinomiales de grados: 1, 3, 6 y spline's cúbicos. Realiza una gráfica que involucre los datos y las curvas de cada modelo. Estima la población en los años 1940, 1995 y 2020 para cada modelo y calcula tu error de estimación si la población en México en 1940 era de 19,653,552 y en 1995 de 91,158,290. Compara tu estimación para 2020 con los datos de 2015."
   ]
  },
  {
   "cell_type": "code",
   "execution_count": 1,
   "metadata": {},
   "outputs": [],
   "source": [
    "import numpy as np\n",
    "import matplotlib.pyplot as plt\n",
    "import pprint\n",
    "from scipy.interpolate import interp1d"
   ]
  },
  {
   "cell_type": "code",
   "execution_count": 2,
   "metadata": {},
   "outputs": [],
   "source": [
    "datos = np.loadtxt('poblacion_inegi.txt', skiprows=2)"
   ]
  },
  {
   "cell_type": "code",
   "execution_count": 3,
   "metadata": {},
   "outputs": [],
   "source": [
    "x = datos[:,0]\n",
    "y = datos[:,1]\n",
    "y_40=19653552\n",
    "y_95=91158290\n",
    "y_15=119938473 #según la Encuesta Intercensal 2015, la poblacíón mexicana ascendía a 119,938,473\n"
   ]
  },
  {
   "cell_type": "code",
   "execution_count": 4,
   "metadata": {},
   "outputs": [
    {
     "name": "stdout",
     "output_type": "stream",
     "text": [
      "[1950. 1960. 1970. 1980. 1990. 2000. 2010.]\n"
     ]
    }
   ],
   "source": [
    "print (x)"
   ]
  },
  {
   "cell_type": "code",
   "execution_count": 5,
   "metadata": {},
   "outputs": [
    {
     "name": "stdout",
     "output_type": "stream",
     "text": [
      "[2.57910170e+07 3.49231290e+07 4.82252380e+07 6.68468330e+07\n",
      " 8.12496450e+07 9.74834120e+07 1.12336538e+08]\n"
     ]
    }
   ],
   "source": [
    "print (y)"
   ]
  },
  {
   "cell_type": "code",
   "execution_count": 6,
   "metadata": {},
   "outputs": [
    {
     "data": {
      "text/plain": [
       "Text(0.5, 1.0, 'Censos Poblaciones 1940-2010')"
      ]
     },
     "execution_count": 6,
     "metadata": {},
     "output_type": "execute_result"
    },
    {
     "data": {
      "image/png": "[encoded data removed]",
      "text/plain": [
       "<Figure size 432x288 with 1 Axes>"
      ]
     },
     "metadata": {
      "needs_background": "light"
     },
     "output_type": "display_data"
    }
   ],
   "source": [
    "plt.plot(x, y, 'r^')\n",
    "plt.legend(['datos_inegi'], loc='best')\n",
    "plt.title('Censos Poblaciones 1940-2010')"
   ]
  },
  {
   "cell_type": "markdown",
   "metadata": {},
   "source": [
    "#### Modelo 1: Ajuste Polinomial de Grado 1"
   ]
  },
  {
   "cell_type": "code",
   "execution_count": 7,
   "metadata": {},
   "outputs": [],
   "source": [
    "npoints=2"
   ]
  },
  {
   "cell_type": "code",
   "execution_count": 8,
   "metadata": {},
   "outputs": [],
   "source": [
    "ngrado = npoints -1\n",
    "coeficientes = np.polyfit(x,y,ngrado)\n"
   ]
  },
  {
   "cell_type": "code",
   "execution_count": 9,
   "metadata": {},
   "outputs": [
    {
     "name": "stdout",
     "output_type": "stream",
     "text": [
      "[ 1.49207691e+06 -2.88761860e+09]\n"
     ]
    }
   ],
   "source": [
    "print (coeficientes)"
   ]
  },
  {
   "cell_type": "markdown",
   "metadata": {},
   "source": [
    "*Polinomio de grado 1*"
   ]
  },
  {
   "cell_type": "markdown",
   "metadata": {},
   "source": [
    "$$p_{2 points}(x) = 1.49207691e^{6}x -2.88761860e^{9}$$"
   ]
  },
  {
   "cell_type": "code",
   "execution_count": 10,
   "metadata": {},
   "outputs": [
    {
     "name": "stdout",
     "output_type": "stream",
     "text": [
      "xeval.shape: 10000\n",
      "yeval.shape: 10000\n"
     ]
    }
   ],
   "source": [
    "neval = 10000\n",
    "xeval= np.linspace(min(x),max(x), neval)\n",
    "yeval= np.polyval(coeficientes,xeval)\n",
    "print('xeval.shape:', xeval.shape[0])\n",
    "print('yeval.shape:', yeval.shape[0])"
   ]
  },
  {
   "cell_type": "code",
   "execution_count": 11,
   "metadata": {},
   "outputs": [
    {
     "data": {
      "text/plain": [
       "Text(0.5, 1.0, 'Gráfica del polinomio interpolador de grado 1')"
      ]
     },
     "execution_count": 11,
     "metadata": {},
     "output_type": "execute_result"
    },
    {
     "data": {
      "image/png": "[encoded data removed]",
      "text/plain": [
       "<Figure size 432x288 with 1 Axes>"
      ]
     },
     "metadata": {
      "needs_background": "light"
     },
     "output_type": "display_data"
    }
   ],
   "source": [
    "plt.plot(x, y, 'r^', xeval, yeval, 'k-')\n",
    "plt.legend(['datos','interpolador de grado 1'], loc='best')\n",
    "plt.title('Gráfica del polinomio interpolador de grado 1')"
   ]
  },
  {
   "cell_type": "markdown",
   "metadata": {},
   "source": [
    "#### Modelo 2: Ajuste Polinomial de Grado 3"
   ]
  },
  {
   "cell_type": "markdown",
   "metadata": {},
   "source": [
    "*Con los coeficientes encontrados, tenemos el siguiente polinomio de grado 7:*"
   ]
  },
  {
   "cell_type": "code",
   "execution_count": 12,
   "metadata": {},
   "outputs": [],
   "source": [
    "npoints_p2=4"
   ]
  },
  {
   "cell_type": "code",
   "execution_count": 13,
   "metadata": {},
   "outputs": [
    {
     "name": "stdout",
     "output_type": "stream",
     "text": [
      "[-2.51088028e+02  1.49560881e+06 -2.96784655e+09  1.96206011e+12]\n"
     ]
    }
   ],
   "source": [
    "ngrado_p2 = npoints_p2 -1\n",
    "coeficientes_p2 = np.polyfit(x,y,ngrado_p2)\n",
    "print (coeficientes_p2)"
   ]
  },
  {
   "cell_type": "markdown",
   "metadata": {},
   "source": [
    "*Polinomio de grado 3:*"
   ]
  },
  {
   "cell_type": "markdown",
   "metadata": {},
   "source": [
    "$$p_{4 points}(x) = -2.51088028e^{2}x^3 + 1.49560881e^{6}x^2 -2.96784655e^{9}x + 1.96206011e^{12}$$"
   ]
  },
  {
   "cell_type": "code",
   "execution_count": 14,
   "metadata": {},
   "outputs": [
    {
     "name": "stdout",
     "output_type": "stream",
     "text": [
      "xeval.shape: 10000\n",
      "yeval.shape: 10000\n"
     ]
    }
   ],
   "source": [
    "neval_p2 = 10000\n",
    "xeval_p2 = np.linspace(min(x),max(x), neval_p2)\n",
    "yeval_p2 = np.polyval(coeficientes_p2,xeval_p2)\n",
    "print('xeval.shape:', xeval_p2.shape[0])\n",
    "print('yeval.shape:', yeval_p2.shape[0])"
   ]
  },
  {
   "cell_type": "code",
   "execution_count": 15,
   "metadata": {},
   "outputs": [
    {
     "data": {
      "text/plain": [
       "Text(0.5, 1.0, 'Gráfica del polinomio interpolador de grado 3')"
      ]
     },
     "execution_count": 15,
     "metadata": {},
     "output_type": "execute_result"
    },
    {
     "data": {
      "image/png": "[encoded data removed]",
      "text/plain": [
       "<Figure size 432x288 with 1 Axes>"
      ]
     },
     "metadata": {
      "needs_background": "light"
     },
     "output_type": "display_data"
    }
   ],
   "source": [
    "plt.plot(x, y, 'r^', xeval_p2, yeval_p2, 'k-')\n",
    "plt.legend(['datos','interpolador de grado 3'], loc='best')\n",
    "plt.title('Gráfica del polinomio interpolador de grado 3')"
   ]
  },
  {
   "cell_type": "markdown",
   "metadata": {},
   "source": [
    "#### Modelo 3: Ajuste Polinomial de Grado 6"
   ]
  },
  {
   "cell_type": "code",
   "execution_count": 16,
   "metadata": {},
   "outputs": [
    {
     "name": "stdout",
     "output_type": "stream",
     "text": [
      "[-7.07161721e-02  8.40168145e+02 -4.15902945e+06  1.09800940e+10\n",
      " -1.63054272e+13  1.29135771e+16 -4.26127155e+18]\n"
     ]
    }
   ],
   "source": [
    "npoints_p3 = 7\n",
    "ngrado_p3 = npoints_p3-1\n",
    "coeficientes_p3=np.polyfit(x,y,ngrado_p3)\n",
    "print(coeficientes_p3)"
   ]
  },
  {
   "cell_type": "markdown",
   "metadata": {},
   "source": [
    "*Polinomio de grado 6:*"
   ]
  },
  {
   "cell_type": "markdown",
   "metadata": {},
   "source": [
    "$$p_{7 points}(x) = -7.07161721e^{-2}x^6 + 8.40168145e^{2}x^5 -4.15902945e^{6}x^4 + 1.09800940e^{10}x^3 -1.63054272e^{13}x^2 + 1.29135771e^{16}x -4.26127155e^{18}$$\n",
    "\n"
   ]
  },
  {
   "cell_type": "code",
   "execution_count": 17,
   "metadata": {},
   "outputs": [
    {
     "name": "stdout",
     "output_type": "stream",
     "text": [
      "xeval.shape: 10000\n",
      "yeval.shape: 10000\n"
     ]
    }
   ],
   "source": [
    "neval_p3 = 10000\n",
    "xeval_p3 = np.linspace(min(x),max(x), neval_p3)\n",
    "yeval_p3 = np.polyval(coeficientes_p3,xeval_p3)\n",
    "print('xeval.shape:', xeval_p3.shape[0])\n",
    "print('yeval.shape:', yeval_p3.shape[0])"
   ]
  },
  {
   "cell_type": "code",
   "execution_count": 18,
   "metadata": {},
   "outputs": [
    {
     "data": {
      "text/plain": [
       "Text(0.5, 1.0, 'Gráfica del polinomio interpolador de grado 6')"
      ]
     },
     "execution_count": 18,
     "metadata": {},
     "output_type": "execute_result"
    },
    {
     "data": {
      "image/png": "[encoded data removed]",
      "text/plain": [
       "<Figure size 432x288 with 1 Axes>"
      ]
     },
     "metadata": {
      "needs_background": "light"
     },
     "output_type": "display_data"
    }
   ],
   "source": [
    "plt.plot(x, y, 'r^', xeval_p3, yeval_p3, 'k-')\n",
    "plt.legend(['datos','interpolador de grado 6'], loc='best')\n",
    "plt.title('Gráfica del polinomio interpolador de grado 6')"
   ]
  },
  {
   "cell_type": "code",
   "execution_count": 19,
   "metadata": {},
   "outputs": [
    {
     "data": {
      "text/plain": [
       "111455994.85714388"
      ]
     },
     "execution_count": 19,
     "metadata": {},
     "output_type": "execute_result"
    }
   ],
   "source": [
    "max(yeval)"
   ]
  },
  {
   "cell_type": "markdown",
   "metadata": {},
   "source": [
    "#### Modelo 4: Splines Cúbicos"
   ]
  },
  {
   "cell_type": "code",
   "execution_count": 20,
   "metadata": {},
   "outputs": [
    {
     "name": "stdout",
     "output_type": "stream",
     "text": [
      "xeval.shape: 10000\n",
      "yeval.shape: 10000\n"
     ]
    }
   ],
   "source": [
    "pw_spline = interp1d(x, y, kind = 'cubic') #spline piecewise \n",
    "neval_sp = 10000\n",
    "xeval_sp = np.linspace(min(x),max(x), neval_sp)\n",
    "yeval_sp = pw_spline(xeval_sp)\n",
    "print('xeval.shape:', xeval_sp.shape[0])\n",
    "print('yeval.shape:', yeval_sp.shape[0])"
   ]
  },
  {
   "cell_type": "code",
   "execution_count": 21,
   "metadata": {},
   "outputs": [
    {
     "data": {
      "text/plain": [
       "<matplotlib.legend.Legend at 0x7f56e5235d68>"
      ]
     },
     "execution_count": 21,
     "metadata": {},
     "output_type": "execute_result"
    },
    {
     "data": {
      "image/png": "[encoded data removed]",
      "text/plain": [
       "<Figure size 432x288 with 1 Axes>"
      ]
     },
     "metadata": {
      "needs_background": "light"
     },
     "output_type": "display_data"
    }
   ],
   "source": [
    "plt.plot(x, y, 'r^',xeval_sp, yeval_sp, 'k-')\n",
    "plt.legend(['datos','cubic splines piecewise'], loc='best')"
   ]
  },
  {
   "cell_type": "markdown",
   "metadata": {},
   "source": [
    "## Modelación de todos los modelos juntos"
   ]
  },
  {
   "cell_type": "code",
   "execution_count": 22,
   "metadata": {},
   "outputs": [
    {
     "data": {
      "text/plain": [
       "<matplotlib.legend.Legend at 0x7f56e51a65c0>"
      ]
     },
     "execution_count": 22,
     "metadata": {},
     "output_type": "execute_result"
    },
    {
     "data": {
      "image/png": "[encoded data removed]",
      "text/plain": [
       "<Figure size 432x288 with 1 Axes>"
      ]
     },
     "metadata": {
      "needs_background": "light"
     },
     "output_type": "display_data"
    }
   ],
   "source": [
    "plt.plot(x, y, 'o', xeval, yeval,'-', xeval_p2, yeval_p2,':', xeval_p3, yeval_p3,':', xeval_sp, yeval_sp, 'k-')\n",
    "plt.legend(['datos','p1','p2','p3','spw'], loc='best')"
   ]
  },
  {
   "cell_type": "markdown",
   "metadata": {},
   "source": [
    "## Estimaciones para 1940, 1995, 2020"
   ]
  },
  {
   "cell_type": "markdown",
   "metadata": {},
   "source": [
    "#### Estimaciones empleando el M1: Polinomio de Grado 1"
   ]
  },
  {
   "cell_type": "code",
   "execution_count": 25,
   "metadata": {},
   "outputs": [
    {
     "name": "stdout",
     "output_type": "stream",
     "text": [
      "Estimación M1 para el año 1940: 7010610.857142925\n",
      "Estimación M1 para el año 1995: 89074841.14285755\n",
      "Estimación M1 para el año 2020: 126376764.00000095\n"
     ]
    }
   ],
   "source": [
    "print ('Estimación M1 para el año 1940:',np.polyval(coeficientes,1940))\n",
    "print ('Estimación M1 para el año 1995:',np.polyval(coeficientes,1995))\n",
    "print ('Estimación M1 para el año 2020:',np.polyval(coeficientes,2020))"
   ]
  },
  {
   "cell_type": "markdown",
   "metadata": {},
   "source": [
    "#### Estimaciones empleando el M2: Polinomio de Grado 3"
   ]
  },
  {
   "cell_type": "code",
   "execution_count": 26,
   "metadata": {},
   "outputs": [
    {
     "name": "stdout",
     "output_type": "stream",
     "text": [
      "Estimación M2 para el año 1940: 21024893.29321289\n",
      "Estimación M2 para el año 1995: 90138305.9663086\n",
      "Estimación M2 para el año 2020: 122312708.42700195\n"
     ]
    }
   ],
   "source": [
    "print ('Estimación M2 para el año 1940:',np.polyval(coeficientes_p2,1940))\n",
    "print ('Estimación M2 para el año 1995:',np.polyval(coeficientes_p2,1995))\n",
    "print ('Estimación M2 para el año 2020:',np.polyval(coeficientes_p2,2020))"
   ]
  },
  {
   "cell_type": "markdown",
   "metadata": {},
   "source": [
    "#### Estimaciones empleando el M3: Polinomio de Grado 6"
   ]
  },
  {
   "cell_type": "code",
   "execution_count": 27,
   "metadata": {},
   "outputs": [
    {
     "name": "stdout",
     "output_type": "stream",
     "text": [
      "Estimación M3 para el año 1940: -68244480.0\n",
      "Estimación M3 para el año 1995: 88493568.0\n",
      "Estimación M3 para el año 2020: 37668352.0\n"
     ]
    }
   ],
   "source": [
    "print ('Estimación M3 para el año 1940:',np.polyval(coeficientes_p3,1940))\n",
    "print ('Estimación M3 para el año 1995:',np.polyval(coeficientes_p3,1995))\n",
    "print ('Estimación M3 para el año 2020:',np.polyval(coeficientes_p3,2020))"
   ]
  },
  {
   "cell_type": "markdown",
   "metadata": {},
   "source": [
    "#### Estimaciones empleando el M4: Splines Cúbicos"
   ]
  },
  {
   "cell_type": "markdown",
   "metadata": {},
   "source": [
    "*En el caso del modelo Spline Piecewise, solo se puede interpolar, no extrapolar.*"
   ]
  },
  {
   "cell_type": "code",
   "execution_count": 28,
   "metadata": {},
   "outputs": [
    {
     "data": {
      "text/plain": [
       "array(89101821.60267858)"
      ]
     },
     "execution_count": 28,
     "metadata": {},
     "output_type": "execute_result"
    }
   ],
   "source": [
    "pw_spline(1995)"
   ]
  },
  {
   "cell_type": "markdown",
   "metadata": {},
   "source": [
    "## Cálculo de Errores"
   ]
  },
  {
   "cell_type": "markdown",
   "metadata": {},
   "source": [
    "#### Errores M1: Polinomio de Grado 1"
   ]
  },
  {
   "cell_type": "code",
   "execution_count": 29,
   "metadata": {},
   "outputs": [],
   "source": [
    "y_m1_40= np.polyval(coeficientes,1940)\n",
    "y_m1_95= np.polyval(coeficientes,1995)\n",
    "y_m1_20=np.polyval(coeficientes,2020)"
   ]
  },
  {
   "cell_type": "code",
   "execution_count": 30,
   "metadata": {},
   "outputs": [
    {
     "name": "stdout",
     "output_type": "stream",
     "text": [
      "El error de la estimación del modelo 1 para el año 1940: 64.0\n",
      "El error de la estimación del modelo 1 para el año 1995: 2.0\n",
      "El error de la estimación del modelo 1 para el año 2020: 5.0\n"
     ]
    }
   ],
   "source": [
    "#Calculando el error en porcentaje (redondeado)\n",
    "\n",
    "print ('El error de la estimación del modelo 1 para el año 1940:', round((abs(y_m1_40-y_40)/y_40)*100))\n",
    "print ('El error de la estimación del modelo 1 para el año 1995:', round((abs(y_m1_95-y_95)/y_95)*100))\n",
    "print ('El error de la estimación del modelo 1 para el año 2020:', round((abs(y_m1_20-y_15)/y_15)*100))"
   ]
  },
  {
   "cell_type": "markdown",
   "metadata": {},
   "source": [
    "*Como podemos observar, los errores, sobretodo para el año 1940, son muy altos; procedemos a calcular los errores del modelo 2.* "
   ]
  },
  {
   "cell_type": "markdown",
   "metadata": {},
   "source": [
    "#### Errores M2: Polinomio de Grado 3"
   ]
  },
  {
   "cell_type": "code",
   "execution_count": 31,
   "metadata": {},
   "outputs": [],
   "source": [
    "y_m2_40= np.polyval(coeficientes_p2,1940)\n",
    "y_m2_95= np.polyval(coeficientes_p2,1995)\n",
    "y_m2_20=np.polyval(coeficientes_p2,2020)"
   ]
  },
  {
   "cell_type": "code",
   "execution_count": 32,
   "metadata": {},
   "outputs": [
    {
     "name": "stdout",
     "output_type": "stream",
     "text": [
      "El error de la estimación del modelo 2 para el año 1940: 7.0\n",
      "El error de la estimación del modelo 2 para el año 1995: 1.0\n",
      "El error de la estimación del modelo 2 para el año 2020: 2.0\n"
     ]
    }
   ],
   "source": [
    "#Calculando el error en porcentaje (redondeado)\n",
    "print ('El error de la estimación del modelo 2 para el año 1940:', round((abs(y_m2_40-y_40)/y_40)*100))\n",
    "print ('El error de la estimación del modelo 2 para el año 1995:', round((abs(y_m2_95-y_95)/y_95)*100))\n",
    "print ('El error de la estimación del modelo 2 para el año 2020:', round((abs(y_m2_20-y_15)/y_15)*100))"
   ]
  },
  {
   "cell_type": "markdown",
   "metadata": {},
   "source": [
    "#### Errores M3: Polinomio de Grado 6"
   ]
  },
  {
   "cell_type": "code",
   "execution_count": 33,
   "metadata": {},
   "outputs": [],
   "source": [
    "y_m3_40= np.polyval(coeficientes_p3,1940)\n",
    "y_m3_95= np.polyval(coeficientes_p3,1995)\n",
    "y_m3_20=np.polyval(coeficientes_p3,2020)"
   ]
  },
  {
   "cell_type": "code",
   "execution_count": 34,
   "metadata": {},
   "outputs": [
    {
     "name": "stdout",
     "output_type": "stream",
     "text": [
      "El error de la estimación del modelo 3 para el año 1940: 447.0\n",
      "El error de la estimación del modelo 3 para el año 1995: 3.0\n",
      "El error de la estimación del modelo 3 para el año 2020: 69.0\n"
     ]
    }
   ],
   "source": [
    "#Calculando el error en porcentaje (redondeado)\n",
    "print ('El error de la estimación del modelo 3 para el año 1940:', round((abs(y_m3_40-y_40)/y_40)*100))\n",
    "print ('El error de la estimación del modelo 3 para el año 1995:', round((abs(y_m3_95-y_95)/y_95)*100))\n",
    "print ('El error de la estimación del modelo 3 para el año 2020:', round((abs(y_m3_20-y_15)/y_15)*100))"
   ]
  },
  {
   "cell_type": "markdown",
   "metadata": {},
   "source": [
    "#### Error M4: Spline Piecewise"
   ]
  },
  {
   "cell_type": "code",
   "execution_count": 35,
   "metadata": {},
   "outputs": [
    {
     "name": "stdout",
     "output_type": "stream",
     "text": [
      "Error de la estimación del modelo 4 para el año 1995: 2.0\n"
     ]
    }
   ],
   "source": [
    "#Calculando el error en porcentaje (redondeado); para el caso de splines, solo podemos interpolar, no extraporlar.\n",
    "\n",
    "print ('Error de la estimación del modelo 4 para el año 1995:', round((abs(pw_spline(1995)-y_95)/y_95)*100))"
   ]
  },
  {
   "cell_type": "code",
   "execution_count": null,
   "metadata": {},
   "outputs": [],
   "source": []
  }
 ],
 "metadata": {
  "kernelspec": {
   "display_name": "Python 3",
   "language": "python",
   "name": "python3"
  },
  "language_info": {
   "codemirror_mode": {
    "name": "ipython",
    "version": 3
   },
   "file_extension": ".py",
   "mimetype": "text/x-python",
   "name": "python",
   "nbconvert_exporter": "python",
   "pygments_lexer": "ipython3",
   "version": "3.6.8"
  }
 },
 "nbformat": 4,
 "nbformat_minor": 2
}
