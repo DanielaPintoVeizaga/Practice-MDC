{
 "cells": [
  {
   "cell_type": "markdown",
   "metadata": {},
   "source": [
    "# FUNCION URNSAMPLES"
   ]
  },
  {
   "cell_type": "markdown",
   "metadata": {},
   "source": [
    "## Lanzamiento de moneda cargada"
   ]
  },
  {
   "cell_type": "markdown",
   "metadata": {},
   "source": [
    "$$P(\\{\\text{sol}\\}) = .7;  P(\\{\\text{águila}\\}) = .3$$"
   ]
  },
  {
   "cell_type": "code",
   "execution_count": 1,
   "metadata": {},
   "outputs": [
    {
     "name": "stderr",
     "output_type": "stream",
     "text": [
      "Installing package into ‘/srv/rlibs’\n",
      "(as ‘lib’ is unspecified)\n",
      "Loading required package: combinat\n",
      "\n",
      "Attaching package: ‘combinat’\n",
      "\n",
      "The following object is masked from ‘package:utils’:\n",
      "\n",
      "    combn\n",
      "\n",
      "Loading required package: fAsianOptions\n",
      "Loading required package: timeDate\n",
      "Loading required package: timeSeries\n",
      "Loading required package: fBasics\n",
      "Loading required package: fOptions\n",
      "\n",
      "Attaching package: ‘prob’\n",
      "\n",
      "The following objects are masked from ‘package:base’:\n",
      "\n",
      "    intersect, setdiff, union\n",
      "\n"
     ]
    }
   ],
   "source": [
    "install.packages('prob')\n",
    "library(prob) "
   ]
  },
  {
   "cell_type": "code",
   "execution_count": 2,
   "metadata": {},
   "outputs": [],
   "source": [
    "S<-rep(c(\"Aguila\",\"Sol\"),times=c(3, 7))\n",
    "M<-urnsamples(S,size=1,replace=FALSE, ordered=FALSE)\n",
    "N<-probspace(M)"
   ]
  },
  {
   "cell_type": "code",
   "execution_count": 3,
   "metadata": {},
   "outputs": [
    {
     "data": {
      "text/html": [
       "<ol class=list-inline>\n",
       "\t<li>'Aguila'</li>\n",
       "\t<li>'Aguila'</li>\n",
       "\t<li>'Aguila'</li>\n",
       "\t<li>'Sol'</li>\n",
       "\t<li>'Sol'</li>\n",
       "\t<li>'Sol'</li>\n",
       "\t<li>'Sol'</li>\n",
       "\t<li>'Sol'</li>\n",
       "\t<li>'Sol'</li>\n",
       "\t<li>'Sol'</li>\n",
       "</ol>\n"
      ],
      "text/latex": [
       "\\begin{enumerate*}\n",
       "\\item 'Aguila'\n",
       "\\item 'Aguila'\n",
       "\\item 'Aguila'\n",
       "\\item 'Sol'\n",
       "\\item 'Sol'\n",
       "\\item 'Sol'\n",
       "\\item 'Sol'\n",
       "\\item 'Sol'\n",
       "\\item 'Sol'\n",
       "\\item 'Sol'\n",
       "\\end{enumerate*}\n"
      ],
      "text/markdown": [
       "1. 'Aguila'\n",
       "2. 'Aguila'\n",
       "3. 'Aguila'\n",
       "4. 'Sol'\n",
       "5. 'Sol'\n",
       "6. 'Sol'\n",
       "7. 'Sol'\n",
       "8. 'Sol'\n",
       "9. 'Sol'\n",
       "10. 'Sol'\n",
       "\n",
       "\n"
      ],
      "text/plain": [
       " [1] \"Aguila\" \"Aguila\" \"Aguila\" \"Sol\"    \"Sol\"    \"Sol\"    \"Sol\"    \"Sol\"   \n",
       " [9] \"Sol\"    \"Sol\"   "
      ]
     },
     "metadata": {},
     "output_type": "display_data"
    }
   ],
   "source": [
    "S"
   ]
  },
  {
   "cell_type": "code",
   "execution_count": 4,
   "metadata": {},
   "outputs": [
    {
     "data": {
      "text/html": [
       "<table>\n",
       "<thead><tr><th scope=col>out</th></tr></thead>\n",
       "<tbody>\n",
       "\t<tr><td>Aguila</td></tr>\n",
       "\t<tr><td>Aguila</td></tr>\n",
       "\t<tr><td>Aguila</td></tr>\n",
       "\t<tr><td>Sol   </td></tr>\n",
       "\t<tr><td>Sol   </td></tr>\n",
       "\t<tr><td>Sol   </td></tr>\n",
       "\t<tr><td>Sol   </td></tr>\n",
       "\t<tr><td>Sol   </td></tr>\n",
       "\t<tr><td>Sol   </td></tr>\n",
       "\t<tr><td>Sol   </td></tr>\n",
       "</tbody>\n",
       "</table>\n"
      ],
      "text/latex": [
       "\\begin{tabular}{r|l}\n",
       " out\\\\\n",
       "\\hline\n",
       "\t Aguila\\\\\n",
       "\t Aguila\\\\\n",
       "\t Aguila\\\\\n",
       "\t Sol   \\\\\n",
       "\t Sol   \\\\\n",
       "\t Sol   \\\\\n",
       "\t Sol   \\\\\n",
       "\t Sol   \\\\\n",
       "\t Sol   \\\\\n",
       "\t Sol   \\\\\n",
       "\\end{tabular}\n"
      ],
      "text/markdown": [
       "\n",
       "| out |\n",
       "|---|\n",
       "| Aguila |\n",
       "| Aguila |\n",
       "| Aguila |\n",
       "| Sol    |\n",
       "| Sol    |\n",
       "| Sol    |\n",
       "| Sol    |\n",
       "| Sol    |\n",
       "| Sol    |\n",
       "| Sol    |\n",
       "\n"
      ],
      "text/plain": [
       "   out   \n",
       "1  Aguila\n",
       "2  Aguila\n",
       "3  Aguila\n",
       "4  Sol   \n",
       "5  Sol   \n",
       "6  Sol   \n",
       "7  Sol   \n",
       "8  Sol   \n",
       "9  Sol   \n",
       "10 Sol   "
      ]
     },
     "metadata": {},
     "output_type": "display_data"
    }
   ],
   "source": [
    "M"
   ]
  },
  {
   "cell_type": "code",
   "execution_count": 5,
   "metadata": {},
   "outputs": [
    {
     "data": {
      "text/html": [
       "<table>\n",
       "<thead><tr><th scope=col>out</th><th scope=col>probs</th></tr></thead>\n",
       "<tbody>\n",
       "\t<tr><td>Aguila</td><td>0.1   </td></tr>\n",
       "\t<tr><td>Aguila</td><td>0.1   </td></tr>\n",
       "\t<tr><td>Aguila</td><td>0.1   </td></tr>\n",
       "\t<tr><td>Sol   </td><td>0.1   </td></tr>\n",
       "\t<tr><td>Sol   </td><td>0.1   </td></tr>\n",
       "\t<tr><td>Sol   </td><td>0.1   </td></tr>\n",
       "\t<tr><td>Sol   </td><td>0.1   </td></tr>\n",
       "\t<tr><td>Sol   </td><td>0.1   </td></tr>\n",
       "\t<tr><td>Sol   </td><td>0.1   </td></tr>\n",
       "\t<tr><td>Sol   </td><td>0.1   </td></tr>\n",
       "</tbody>\n",
       "</table>\n"
      ],
      "text/latex": [
       "\\begin{tabular}{r|ll}\n",
       " out & probs\\\\\n",
       "\\hline\n",
       "\t Aguila & 0.1   \\\\\n",
       "\t Aguila & 0.1   \\\\\n",
       "\t Aguila & 0.1   \\\\\n",
       "\t Sol    & 0.1   \\\\\n",
       "\t Sol    & 0.1   \\\\\n",
       "\t Sol    & 0.1   \\\\\n",
       "\t Sol    & 0.1   \\\\\n",
       "\t Sol    & 0.1   \\\\\n",
       "\t Sol    & 0.1   \\\\\n",
       "\t Sol    & 0.1   \\\\\n",
       "\\end{tabular}\n"
      ],
      "text/markdown": [
       "\n",
       "| out | probs |\n",
       "|---|---|\n",
       "| Aguila | 0.1    |\n",
       "| Aguila | 0.1    |\n",
       "| Aguila | 0.1    |\n",
       "| Sol    | 0.1    |\n",
       "| Sol    | 0.1    |\n",
       "| Sol    | 0.1    |\n",
       "| Sol    | 0.1    |\n",
       "| Sol    | 0.1    |\n",
       "| Sol    | 0.1    |\n",
       "| Sol    | 0.1    |\n",
       "\n"
      ],
      "text/plain": [
       "   out    probs\n",
       "1  Aguila 0.1  \n",
       "2  Aguila 0.1  \n",
       "3  Aguila 0.1  \n",
       "4  Sol    0.1  \n",
       "5  Sol    0.1  \n",
       "6  Sol    0.1  \n",
       "7  Sol    0.1  \n",
       "8  Sol    0.1  \n",
       "9  Sol    0.1  \n",
       "10 Sol    0.1  "
      ]
     },
     "metadata": {},
     "output_type": "display_data"
    }
   ],
   "source": [
    "N"
   ]
  },
  {
   "cell_type": "code",
   "execution_count": 6,
   "metadata": {},
   "outputs": [
    {
     "data": {
      "text/html": [
       "0.7"
      ],
      "text/latex": [
       "0.7"
      ],
      "text/markdown": [
       "0.7"
      ],
      "text/plain": [
       "[1] 0.7"
      ]
     },
     "metadata": {},
     "output_type": "display_data"
    }
   ],
   "source": [
    "Prob(N, isrep(N, \"Sol\", 1))"
   ]
  },
  {
   "cell_type": "code",
   "execution_count": 7,
   "metadata": {},
   "outputs": [
    {
     "data": {
      "text/html": [
       "0.3"
      ],
      "text/latex": [
       "0.3"
      ],
      "text/markdown": [
       "0.3"
      ],
      "text/plain": [
       "[1] 0.3"
      ]
     },
     "metadata": {},
     "output_type": "display_data"
    }
   ],
   "source": [
    "Prob(N, isrep(N, \"Aguila\", 1))"
   ]
  },
  {
   "cell_type": "code",
   "execution_count": null,
   "metadata": {},
   "outputs": [],
   "source": []
  }
 ],
 "metadata": {
  "kernelspec": {
   "display_name": "R",
   "language": "R",
   "name": "ir"
  },
  "language_info": {
   "codemirror_mode": "r",
   "file_extension": ".r",
   "mimetype": "text/x-r-source",
   "name": "R",
   "pygments_lexer": "r",
   "version": "3.4.4"
  }
 },
 "nbformat": 4,
 "nbformat_minor": 2
}
